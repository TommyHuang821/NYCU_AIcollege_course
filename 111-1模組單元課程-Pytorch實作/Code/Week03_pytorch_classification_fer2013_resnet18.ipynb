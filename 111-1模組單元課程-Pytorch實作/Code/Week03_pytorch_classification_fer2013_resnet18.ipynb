{
 "cells": [
  {
   "cell_type": "markdown",
   "id": "increasing-sodium",
   "metadata": {},
   "source": [
    "# Emotion Classification by FER-2013\n",
    "\n",
    "\n",
    "[Dataset FER-2013](https://www.kaggle.com/datasets/msambare/fer2013)\n",
    "\n",
    "**About Dataset**<br>\n",
    "\n",
    "The data consists of 48x48 pixel grayscale images of faces. The faces have been automatically registered so that the face is more or less centred and occupies about the same amount of space in each image.\n",
    "\n",
    "The task is to categorize each face based on the emotion shown in the facial expression into one of seven categories.\n",
    "\n",
    "|Encode|Class|\n",
    "|:---:|:---:|\n",
    "|0|Angry|\n",
    "|1|Disgust|\n",
    "|2|Fear|\n",
    "|3|Happy|\n",
    "|4|Sad|\n",
    "|5|Surprise|\n",
    "|6|Neutral|\n",
    " \n",
    " \n",
    " The training set consists of 28,709 examples and the public test set consists of 3,589 examples.\n",
    "\n"
   ]
  },
  {
   "cell_type": "code",
   "execution_count": 1,
   "id": "sticky-monday",
   "metadata": {},
   "outputs": [
    {
     "name": "stdout",
     "output_type": "stream",
     "text": [
      "['angry', 'disgust', 'fear', 'happy', 'sad', 'surprise', 'neutral']\n"
     ]
    }
   ],
   "source": [
    "classnames = [tmp.lower() for tmp in ['Angry','Disgust','Fear','Happy','Sad','Surprise','Neutral']]\n",
    "print(classnames)"
   ]
  },
  {
   "cell_type": "code",
   "execution_count": 2,
   "id": "c3531d98",
   "metadata": {},
   "outputs": [
    {
     "name": "stdout",
     "output_type": "stream",
     "text": [
      "['./dataset_fer2013/test\\\\angry\\\\PrivateTest_10131363.jpg', './dataset_fer2013/test\\\\angry\\\\PrivateTest_10304478.jpg', './dataset_fer2013/test\\\\angry\\\\PrivateTest_1054527.jpg', './dataset_fer2013/test\\\\angry\\\\PrivateTest_10590091.jpg', './dataset_fer2013/test\\\\angry\\\\PrivateTest_1109992.jpg']\n",
      "[0, 0, 0, 0, 0]\n"
     ]
    }
   ],
   "source": [
    "import json\n",
    "import os\n",
    "folder_path_train = './dataset_fer2013/train'\n",
    "folder_path_test = './dataset_fer2013/test'\n",
    "\n",
    "\n",
    "imagepaths_train, labels_train=[],[]\n",
    "for label, tmp_class in enumerate(classnames):\n",
    "    mypath = os.path.join(folder_path_train, tmp_class)\n",
    "    filenames = os.listdir(mypath)\n",
    "    for filename in filenames:\n",
    "        imagepaths_train.append(os.path.join(mypath, filename))\n",
    "        labels_train.append(label)\n",
    "        \n",
    "imagepaths_test, labels_test=[],[]\n",
    "for label, tmp_class in enumerate(classnames):\n",
    "    mypath = os.path.join(folder_path_test, tmp_class)\n",
    "    filenames = os.listdir(mypath)\n",
    "    for filename in filenames:\n",
    "        imagepaths_test.append(os.path.join(mypath, filename))\n",
    "        labels_test.append(label)\n",
    "\n",
    "    \n",
    "print(imagepaths_test[0:5])\n",
    "print(labels_test[0:5])\n",
    "\n",
    "data={}\n",
    "data['imagepaths_train']=imagepaths_train\n",
    "data['labels_train'] = labels_train\n",
    "data['imagepaths_test']=imagepaths_test\n",
    "data['labels_test'] = labels_test\n",
    "with open('fer_2013.json', 'w', newline='') as jsonfile:\n",
    "    json.dump(data, jsonfile)\n",
    "    "
   ]
  },
  {
   "cell_type": "code",
   "execution_count": 3,
   "id": "affected-stress",
   "metadata": {},
   "outputs": [
    {
     "name": "stdout",
     "output_type": "stream",
     "text": [
      "number of training data:28709\n",
      "torch.Size([10, 3, 48, 48])\n",
      "torch.Size([10])\n"
     ]
    }
   ],
   "source": [
    "import warnings\n",
    "warnings.filterwarnings(\"ignore\")\n",
    "import torch\n",
    "from torchvision import datasets, transforms\n",
    "import torch.nn as nn\n",
    "import torch.nn.functional as F\n",
    "from torch import optim\n",
    "import PIL.Image as Image\n",
    "import numpy as np\n",
    "import matplotlib.pyplot as plt\n",
    "\n",
    "class MyDataset(torch.utils.data.Dataset):\n",
    "    '''\n",
    "    load the dataset\n",
    "    '''\n",
    "    def __init__(self,transforms, isTrain=True):\n",
    "        with open('fer_2013.json') as jsf:\n",
    "            data_load = json.load(jsf)\n",
    "        if isTrain:\n",
    "            self.imList = data_load['imagepaths_train']\n",
    "            self.labelList = data_load['labels_train']\n",
    "            print('number of training data:{}'.format(len(self.imList)))\n",
    "        else:\n",
    "            self.imList = data_load['imagepaths_test']\n",
    "            self.labelList = data_load['labels_test']   \n",
    "            print('number of test data:{}'.format(len(self.imList)))\n",
    "        self.transforms=transforms\n",
    "        \n",
    "    def __len__(self):\n",
    "        return len(self.imList)\n",
    "\n",
    "    def __getitem__(self, idx):\n",
    "        '''\n",
    "        :param idx: Index of the image file\n",
    "        :return: returns the image and corresponding label file.\n",
    "        '''\n",
    "        image_name = self.imList[idx]\n",
    "        label = self.labelList[idx] \n",
    "        # read image with PIL module\n",
    "        image = Image.open(image_name, mode='r')\n",
    "        image = image.convert('RGB')\n",
    "        # Convert PIL label image to torch.Tensor\n",
    "        image = self.transforms(image)\n",
    "        label = torch.tensor(label)\n",
    "        return image, label\n",
    "    def my_collate(batch):\n",
    "        data, targets = list(), list()\n",
    "        for b in batch:\n",
    "            data.append(b[0])\n",
    "            targets.append(b[1])\n",
    "        data = torch.stack(data,dim=0)\n",
    "        targets = torch.stack(targets,dim=0)\n",
    "        return data, targets\n",
    "    \n",
    "if __name__ == \"__main__\":\n",
    "    mytransform = transforms.Compose([\n",
    "            transforms.Resize((48,48)),\n",
    "            transforms.ToTensor()\n",
    "            ])\n",
    "    mydataset = MyDataset(transforms=mytransform, isTrain=True)\n",
    "    mydata_loader = torch.utils.data.DataLoader(mydataset, batch_size=10, num_workers=0)\n",
    "    for data in mydata_loader:\n",
    "        print(data[0].size())\n",
    "        print(data[1].size())\n",
    "        break    \n"
   ]
  },
  {
   "cell_type": "code",
   "execution_count": 4,
   "id": "brown-kitty",
   "metadata": {},
   "outputs": [],
   "source": [
    "# Define CNN model\n",
    "class ConvM(nn.Sequential):\n",
    "    def __init__(self, in_planes, out_planes, kernel_size=3, stride=1, groups=1):\n",
    "        padding = (kernel_size - 1) // 2\n",
    "        norm_layer = nn.BatchNorm2d\n",
    "        super(ConvM, self).__init__(\n",
    "            nn.Conv2d(in_planes, out_planes, kernel_size, stride, padding, groups=groups, bias=False),\n",
    "            norm_layer(out_planes),\n",
    "            nn.ReLU(inplace=True),\n",
    "        )\n",
    "class ConvNet(nn.Module):\n",
    "    def __init__(self, n_class):\n",
    "        super(ConvNet, self).__init__()\n",
    "        \n",
    "        self.conv = nn.Sequential(\n",
    "            ConvM(3, 32, 5, 2),\n",
    "            ConvM(32, 64, 5, 2),\n",
    "            ConvM(64, 128, 3, 1),\n",
    "            ConvM(128, 64, 3, 1),\n",
    "            ConvM(64, 32, 3, 1),\n",
    "        )        \n",
    "        self.fc = nn.Linear(32, n_class)\n",
    "    def forward(self, x):\n",
    "        x = self.conv(x)\n",
    "        x = nn.functional.adaptive_avg_pool2d(x, 1).reshape(x.shape[0], -1)\n",
    "        ft = x\n",
    "        output = self.fc(x)\n",
    "        return output\n",
    "    \n",
    "    \n",
    "def conv3x3(in_planes: int, out_planes: int, stride: int = 1, groups: int = 1, dilation: int = 1) -> nn.Conv2d:\n",
    "    \"\"\"3x3 convolution with padding\"\"\"\n",
    "    return nn.Conv2d(in_planes, out_planes, kernel_size=3, stride=stride,\n",
    "                     padding=dilation, groups=groups, bias=False, dilation=dilation)\n",
    "\n",
    "def conv1x1(in_planes: int, out_planes: int, stride: int = 1) -> nn.Conv2d:\n",
    "    \"\"\"1x1 convolution\"\"\"\n",
    "    return nn.Conv2d(in_planes, out_planes, kernel_size=1, stride=stride, bias=False)\n",
    "\n",
    "class RESNET18(nn.Module):\n",
    "    def __init__(self, num_classes=10):\n",
    "        super(RESNET18, self).__init__()\n",
    "        # _resnet('resnet18', BasicBlock, [2, 2, 2, 2])\n",
    "        channel_ration = 0.1\n",
    "\n",
    "        norm_layer = nn.BatchNorm2d\n",
    "        outch =  int(64 * channel_ration)\n",
    "        self.conv1 = nn.Conv2d(3, outch, kernel_size=7, stride=2, padding=3,\n",
    "                               bias=False)\n",
    "        self.bn1 = norm_layer(outch)\n",
    "        self.relu = nn.ReLU(inplace=True)\n",
    "        self.maxpool = nn.MaxPool2d(kernel_size=3, stride=2, padding=1)\n",
    "        \n",
    "        '''\n",
    "        self.layer1 = self._make_layer(block, 64, layers[0])\n",
    "        self.layer2 = self._make_layer(block, 128, layers[1], stride=2,\n",
    "                                       dilate=replace_stride_with_dilation[0])\n",
    "        self.layer3 = self._make_layer(block, 256, layers[2], stride=2,\n",
    "                                       dilate=replace_stride_with_dilation[1])\n",
    "        self.layer4 = self._make_layer(block, 512, layers[3], stride=2,\n",
    "                                       dilate=replace_stride_with_dilation[2])\n",
    "        '''\n",
    "\n",
    "        # layer 1\n",
    "        outch =  int(64 * channel_ration)\n",
    "        self.l1_p1_conv1 = conv3x3(outch, outch, 1)\n",
    "        self.l1_p1_bn1 = norm_layer(outch)\n",
    "        self.l1_relu = nn.ReLU(inplace=True)\n",
    "        self.l1_p1_conv2 = conv3x3(outch, outch)\n",
    "        self.l1_p1_bn2 = norm_layer(outch)\n",
    "        \n",
    "        self.l1_p2_conv1 = conv3x3(outch, outch, 1)\n",
    "        self.l1_p2_bn1 = norm_layer(outch)\n",
    "        self.l1_p2_relu = nn.ReLU(inplace=True)\n",
    "        self.l1_p2_conv2 = conv3x3(outch, outch)\n",
    "        self.l1_p2_bn2 = norm_layer(outch)\n",
    "        \n",
    "         # layer 2\n",
    "        inch =  int(64 * channel_ration)\n",
    "        outch =  int(128 * channel_ration)\n",
    "        self.downsample2 = nn.Sequential(\n",
    "                conv1x1(inch, outch, 2),\n",
    "                norm_layer(outch),\n",
    "            )\n",
    "        self.l2_p1_conv1 = conv3x3(inch, outch, 2)\n",
    "        self.l2_p1_bn1 = norm_layer(outch)\n",
    "        self.l2_relu = nn.ReLU(inplace=True)\n",
    "        self.l2_p1_conv2 = conv3x3(outch, outch)\n",
    "        self.l2_p1_bn2 = norm_layer(outch)\n",
    "        \n",
    "        self.l2_p2_conv1 = conv3x3(outch, outch, 1)\n",
    "        self.l2_p2_bn1 = norm_layer(outch)\n",
    "        self.l2_p2_relu = nn.ReLU(inplace=True)\n",
    "        self.l2_p2_conv2 = conv3x3(outch, outch)\n",
    "        self.l2_p2_bn2 = norm_layer(outch)\n",
    "        \n",
    "        # layer 3\n",
    "        inch =  int(128 * channel_ration)\n",
    "        outch =  int(256 * channel_ration)\n",
    "        self.downsample3 = nn.Sequential(\n",
    "                conv1x1(inch, outch, 2),\n",
    "                norm_layer(outch),\n",
    "            )    \n",
    "        self.l3_p1_conv1 = conv3x3(inch, outch, 2)\n",
    "        self.l3_p1_bn1 = norm_layer(outch)\n",
    "        self.l3_relu = nn.ReLU(inplace=True)\n",
    "        self.l3_p1_conv2 = conv3x3(outch, outch)\n",
    "        self.l3_p1_bn2 = norm_layer(outch)\n",
    "        \n",
    "        self.l3_p2_conv1 = conv3x3(outch, outch, 1)\n",
    "        self.l3_p2_bn1 = norm_layer(outch)\n",
    "        self.l3_p2_relu = nn.ReLU(inplace=True)\n",
    "        self.l3_p2_conv2 = conv3x3(outch, outch)\n",
    "        self.l3_p2_bn2 = norm_layer(outch)\n",
    "        \n",
    "        # layer 4\n",
    "        inch =  int(256 * channel_ration)\n",
    "        outch =  int(512 * channel_ration)\n",
    "        self.downsample4 = nn.Sequential(\n",
    "                conv1x1(inch, outch, 2),\n",
    "                norm_layer(outch),\n",
    "            )     \n",
    "        self.l4_p1_conv1 = conv3x3(inch, outch, 2)\n",
    "        self.l4_p1_bn1 = norm_layer(outch)\n",
    "        self.l4_relu = nn.ReLU(inplace=True)\n",
    "        self.l4_p1_conv2 = conv3x3(outch, outch)\n",
    "        self.l4_p1_bn2 = norm_layer(outch)\n",
    "        \n",
    "        self.l4_p2_conv1 = conv3x3(outch, outch, 1)\n",
    "        self.l4_p2_bn1 = norm_layer(outch)\n",
    "        self.l4_p2_relu = nn.ReLU(inplace=True)\n",
    "        self.l4_p2_conv2 = conv3x3(outch, outch)\n",
    "        self.l4_p2_bn2 = norm_layer(outch)\n",
    "   \n",
    "        self.avgpool = nn.AdaptiveAvgPool2d((1, 1))\n",
    "        self.fc = nn.Linear(outch , num_classes)\n",
    "\n",
    "        for m in self.modules():\n",
    "            if isinstance(m, nn.Conv2d):\n",
    "                nn.init.kaiming_normal_(m.weight, mode='fan_out', nonlinearity='relu')\n",
    "            elif isinstance(m, (nn.BatchNorm2d, nn.GroupNorm)):\n",
    "                nn.init.constant_(m.weight, 1)\n",
    "                nn.init.constant_(m.bias, 0)\n",
    "\n",
    "    def forward(self, x):    \n",
    "        # 1\n",
    "        x = self.conv1(x)\n",
    "        x = self.bn1(x)\n",
    "        x = self.relu(x)\n",
    "        x = self.maxpool(x)\n",
    "                \n",
    "        # 2,3\n",
    "        identity11 = x\n",
    "        x = self.l1_p1_conv1(x)\n",
    "        x = self.l1_p1_bn1(x)\n",
    "        x = self.l1_relu(x)\n",
    "        x = self.l1_p1_conv2(x)\n",
    "        x = self.l1_p1_bn2(x)\n",
    "        x += identity11\n",
    "        x = self.l1_relu(x)\n",
    "        # 4,5\n",
    "        identity12 = x\n",
    "        x = self.l1_p2_conv1(x)\n",
    "        x = self.l1_p2_bn1(x)\n",
    "        x = self.l1_p2_relu(x)\n",
    "        x = self.l1_p2_conv2(x)\n",
    "        x = self.l1_p2_bn2(x)\n",
    "        x += identity12\n",
    "        x = self.l1_p2_relu(x)\n",
    "        \n",
    "        \n",
    "        # 6,7\n",
    "        identity21 = self.downsample2(x)\n",
    "        x = self.l2_p1_conv1(x)\n",
    "        x = self.l2_p1_bn1(x)\n",
    "        x = self.l2_relu(x)\n",
    "        x = self.l2_p1_conv2(x)\n",
    "        x = self.l2_p1_bn2(x)\n",
    "        x += identity21\n",
    "        x = self.l2_relu(x)\n",
    "        # 8,9\n",
    "        identity22 = x\n",
    "        x = self.l2_p2_conv1(x)\n",
    "        x = self.l2_p2_bn1(x)\n",
    "        x = self.l2_p2_relu(x)\n",
    "        x = self.l2_p2_conv2(x)\n",
    "        x = self.l2_p2_bn2(x)\n",
    "        x += identity22\n",
    "        x = self.l2_p2_relu(x)\n",
    "        \n",
    "        \n",
    "        # 10,11\n",
    "        identity31 = self.downsample3(x)\n",
    "        x = self.l3_p1_conv1(x)\n",
    "        x = self.l3_p1_bn1(x)\n",
    "        x = self.l3_relu(x)\n",
    "        x = self.l3_p1_conv2(x)\n",
    "        x = self.l3_p1_bn2(x)\n",
    "        x += identity31\n",
    "        x = self.l3_relu(x)\n",
    "        # 12,13\n",
    "        identity32 = x\n",
    "        x = self.l3_p2_conv1(x)\n",
    "        x = self.l3_p2_bn1(x)\n",
    "        x = self.l3_p2_relu(x)\n",
    "        x = self.l3_p2_conv2(x)\n",
    "        x = self.l3_p2_bn2(x)\n",
    "        x += identity32\n",
    "        x = self.l3_p2_relu(x)\n",
    "        \n",
    "                # 14,15\n",
    "        identity41 = self.downsample4(x)\n",
    "        x = self.l4_p1_conv1(x)\n",
    "        x = self.l4_p1_bn1(x)\n",
    "        x = self.l4_relu(x)\n",
    "        x = self.l4_p1_conv2(x)\n",
    "        x = self.l4_p1_bn2(x)\n",
    "        x += identity41\n",
    "        x = self.l4_relu(x)\n",
    "        \n",
    "        # 16,17\n",
    "        identity42 = x\n",
    "        x = self.l4_p2_conv1(x)\n",
    "        x = self.l4_p2_bn1(x)\n",
    "        x = self.l4_p2_relu(x)\n",
    "        x = self.l4_p2_conv2(x)\n",
    "        x = self.l4_p2_bn2(x)\n",
    "        x += identity42\n",
    "        x = self.l4_p2_relu(x)\n",
    "        \n",
    "        x = self.avgpool(x)\n",
    "        x = x.view(x.size(0),-1)\n",
    "        x = self.fc(x)\n",
    "        return x\n",
    "    "
   ]
  },
  {
   "cell_type": "code",
   "execution_count": 6,
   "id": "transparent-career",
   "metadata": {},
   "outputs": [
    {
     "name": "stdout",
     "output_type": "stream",
     "text": [
      "cuda\n",
      "number of training data:28709\n",
      "number of test data:7178\n",
      "total training iter:113\n",
      "total test iter:29\n",
      "Epoch:0\n"
     ]
    },
    {
     "name": "stderr",
     "output_type": "stream",
     "text": [
      "113it [00:21,  5.20it/s]\n"
     ]
    },
    {
     "name": "stdout",
     "output_type": "stream",
     "text": [
      "learning rate:0.001\n",
      "epoch: 1/100, Average loss (Train):1.77047, Average loss (test):0.43453, acc(train):26.9463, acc(test):29.1725\n",
      "Epoch:1\n"
     ]
    },
    {
     "name": "stderr",
     "output_type": "stream",
     "text": [
      "113it [00:20,  5.46it/s]\n"
     ]
    },
    {
     "name": "stdout",
     "output_type": "stream",
     "text": [
      "learning rate:0.001\n",
      "epoch: 2/100, Average loss (Train):1.73806, Average loss (test):0.42434, acc(train):28.8098, acc(test):31.4990\n",
      "Epoch:2\n"
     ]
    },
    {
     "name": "stderr",
     "output_type": "stream",
     "text": [
      "113it [00:20,  5.41it/s]\n"
     ]
    },
    {
     "name": "stdout",
     "output_type": "stream",
     "text": [
      "learning rate:0.001\n",
      "epoch: 3/100, Average loss (Train):1.71473, Average loss (test):0.41368, acc(train):30.1961, acc(test):33.3658\n",
      "Epoch:3\n"
     ]
    },
    {
     "name": "stderr",
     "output_type": "stream",
     "text": [
      "113it [00:21,  5.35it/s]\n"
     ]
    },
    {
     "name": "stdout",
     "output_type": "stream",
     "text": [
      "learning rate:0.001\n",
      "epoch: 4/100, Average loss (Train):1.70931, Average loss (test):0.41313, acc(train):30.2309, acc(test):34.0206\n",
      "Epoch:4\n"
     ]
    },
    {
     "name": "stderr",
     "output_type": "stream",
     "text": [
      "113it [00:20,  5.44it/s]\n"
     ]
    },
    {
     "name": "stdout",
     "output_type": "stream",
     "text": [
      "learning rate:0.001\n",
      "epoch: 5/100, Average loss (Train):1.70458, Average loss (test):0.41187, acc(train):30.4295, acc(test):34.4386\n",
      "Epoch:5\n"
     ]
    },
    {
     "name": "stderr",
     "output_type": "stream",
     "text": [
      "113it [00:20,  5.42it/s]\n"
     ]
    },
    {
     "name": "stdout",
     "output_type": "stream",
     "text": [
      "learning rate:0.001\n",
      "epoch: 6/100, Average loss (Train):1.66193, Average loss (test):0.39469, acc(train):32.7354, acc(test):37.8936\n",
      "Epoch:6\n"
     ]
    },
    {
     "name": "stderr",
     "output_type": "stream",
     "text": [
      "113it [00:20,  5.45it/s]\n"
     ]
    },
    {
     "name": "stdout",
     "output_type": "stream",
     "text": [
      "learning rate:0.001\n",
      "epoch: 7/100, Average loss (Train):1.70771, Average loss (test):0.40223, acc(train):33.1185, acc(test):38.4787\n",
      "Epoch:7\n"
     ]
    },
    {
     "name": "stderr",
     "output_type": "stream",
     "text": [
      "113it [00:20,  5.45it/s]\n"
     ]
    },
    {
     "name": "stdout",
     "output_type": "stream",
     "text": [
      "learning rate:0.001\n",
      "epoch: 8/100, Average loss (Train):1.63344, Average loss (test):0.38217, acc(train):34.7104, acc(test):39.4957\n",
      "Epoch:8\n"
     ]
    },
    {
     "name": "stderr",
     "output_type": "stream",
     "text": [
      "113it [00:20,  5.44it/s]\n"
     ]
    },
    {
     "name": "stdout",
     "output_type": "stream",
     "text": [
      "learning rate:0.001\n",
      "epoch: 9/100, Average loss (Train):1.64364, Average loss (test):0.39203, acc(train):34.0102, acc(test):37.6010\n",
      "Epoch:9\n"
     ]
    },
    {
     "name": "stderr",
     "output_type": "stream",
     "text": [
      "113it [00:20,  5.44it/s]\n"
     ]
    },
    {
     "name": "stdout",
     "output_type": "stream",
     "text": [
      "learning rate:0.001\n",
      "epoch: 10/100, Average loss (Train):1.67013, Average loss (test):0.39755, acc(train):34.2192, acc(test):38.4648\n",
      "Epoch:10\n"
     ]
    },
    {
     "name": "stderr",
     "output_type": "stream",
     "text": [
      "113it [00:20,  5.45it/s]\n"
     ]
    },
    {
     "name": "stdout",
     "output_type": "stream",
     "text": [
      "learning rate:0.001\n",
      "epoch: 11/100, Average loss (Train):1.60976, Average loss (test):0.38385, acc(train):35.2851, acc(test):39.6768\n",
      "Epoch:11\n"
     ]
    },
    {
     "name": "stderr",
     "output_type": "stream",
     "text": [
      "113it [00:20,  5.41it/s]\n"
     ]
    },
    {
     "name": "stdout",
     "output_type": "stream",
     "text": [
      "learning rate:0.001\n",
      "epoch: 12/100, Average loss (Train):1.59706, Average loss (test):0.37473, acc(train):35.8947, acc(test):41.9755\n",
      "Epoch:12\n"
     ]
    },
    {
     "name": "stderr",
     "output_type": "stream",
     "text": [
      "113it [00:20,  5.46it/s]\n"
     ]
    },
    {
     "name": "stdout",
     "output_type": "stream",
     "text": [
      "learning rate:0.001\n",
      "epoch: 13/100, Average loss (Train):1.58347, Average loss (test):0.37962, acc(train):37.0894, acc(test):40.9306\n",
      "Epoch:13\n"
     ]
    },
    {
     "name": "stderr",
     "output_type": "stream",
     "text": [
      "113it [00:20,  5.45it/s]\n"
     ]
    },
    {
     "name": "stdout",
     "output_type": "stream",
     "text": [
      "learning rate:0.001\n",
      "epoch: 14/100, Average loss (Train):1.53916, Average loss (test):0.36748, acc(train):38.3329, acc(test):42.2402\n",
      "Epoch:14\n"
     ]
    },
    {
     "name": "stderr",
     "output_type": "stream",
     "text": [
      "113it [00:20,  5.45it/s]\n"
     ]
    },
    {
     "name": "stdout",
     "output_type": "stream",
     "text": [
      "learning rate:0.001\n",
      "epoch: 15/100, Average loss (Train):1.55722, Average loss (test):0.36903, acc(train):38.4618, acc(test):43.0900\n",
      "Epoch:15\n"
     ]
    },
    {
     "name": "stderr",
     "output_type": "stream",
     "text": [
      "113it [00:21,  5.36it/s]\n"
     ]
    },
    {
     "name": "stdout",
     "output_type": "stream",
     "text": [
      "learning rate:0.001\n",
      "epoch: 16/100, Average loss (Train):1.55183, Average loss (test):0.37929, acc(train):38.3991, acc(test):41.7247\n",
      "Epoch:16\n"
     ]
    },
    {
     "name": "stderr",
     "output_type": "stream",
     "text": [
      "113it [00:20,  5.43it/s]\n"
     ]
    },
    {
     "name": "stdout",
     "output_type": "stream",
     "text": [
      "learning rate:0.001\n",
      "epoch: 17/100, Average loss (Train):1.49097, Average loss (test):0.36128, acc(train):41.4260, acc(test):43.8005\n",
      "Epoch:17\n"
     ]
    },
    {
     "name": "stderr",
     "output_type": "stream",
     "text": [
      "113it [00:20,  5.39it/s]\n"
     ]
    },
    {
     "name": "stdout",
     "output_type": "stream",
     "text": [
      "learning rate:0.001\n",
      "epoch: 18/100, Average loss (Train):1.49229, Average loss (test):0.36220, acc(train):41.0429, acc(test):43.2990\n",
      "Epoch:18\n"
     ]
    },
    {
     "name": "stderr",
     "output_type": "stream",
     "text": [
      "113it [00:20,  5.40it/s]\n"
     ]
    },
    {
     "name": "stdout",
     "output_type": "stream",
     "text": [
      "learning rate:0.001\n",
      "epoch: 19/100, Average loss (Train):1.46909, Average loss (test):0.36032, acc(train):42.1087, acc(test):45.0961\n",
      "Epoch:19\n"
     ]
    },
    {
     "name": "stderr",
     "output_type": "stream",
     "text": [
      "113it [00:20,  5.42it/s]\n"
     ]
    },
    {
     "name": "stdout",
     "output_type": "stream",
     "text": [
      "learning rate:0.0001\n",
      "epoch: 20/100, Average loss (Train):1.42432, Average loss (test):0.35195, acc(train):44.1604, acc(test):45.5280\n",
      "Epoch:20\n"
     ]
    },
    {
     "name": "stderr",
     "output_type": "stream",
     "text": [
      "113it [00:20,  5.43it/s]\n"
     ]
    },
    {
     "name": "stdout",
     "output_type": "stream",
     "text": [
      "learning rate:0.0001\n",
      "epoch: 21/100, Average loss (Train):1.42011, Average loss (test):0.35336, acc(train):44.7630, acc(test):45.7648\n",
      "Epoch:21\n"
     ]
    },
    {
     "name": "stderr",
     "output_type": "stream",
     "text": [
      "113it [00:20,  5.40it/s]\n"
     ]
    },
    {
     "name": "stdout",
     "output_type": "stream",
     "text": [
      "learning rate:0.0001\n",
      "epoch: 22/100, Average loss (Train):1.40838, Average loss (test):0.35459, acc(train):45.0381, acc(test):46.0156\n",
      "Epoch:22\n"
     ]
    },
    {
     "name": "stderr",
     "output_type": "stream",
     "text": [
      "113it [00:20,  5.45it/s]\n"
     ]
    },
    {
     "name": "stdout",
     "output_type": "stream",
     "text": [
      "learning rate:0.0001\n",
      "epoch: 23/100, Average loss (Train):1.40004, Average loss (test):0.35427, acc(train):45.2750, acc(test):45.6952\n",
      "Epoch:23\n"
     ]
    },
    {
     "name": "stderr",
     "output_type": "stream",
     "text": [
      "113it [00:21,  5.35it/s]\n"
     ]
    },
    {
     "name": "stdout",
     "output_type": "stream",
     "text": [
      "learning rate:0.0001\n",
      "epoch: 24/100, Average loss (Train):1.39740, Average loss (test):0.35565, acc(train):45.5502, acc(test):45.8624\n",
      "Epoch:24\n"
     ]
    },
    {
     "name": "stderr",
     "output_type": "stream",
     "text": [
      "113it [00:20,  5.41it/s]\n"
     ]
    },
    {
     "name": "stdout",
     "output_type": "stream",
     "text": [
      "learning rate:0.0001\n",
      "epoch: 25/100, Average loss (Train):1.39054, Average loss (test):0.35638, acc(train):46.0483, acc(test):45.8763\n",
      "Epoch:25\n"
     ]
    },
    {
     "name": "stderr",
     "output_type": "stream",
     "text": [
      "113it [00:20,  5.46it/s]\n"
     ]
    },
    {
     "name": "stdout",
     "output_type": "stream",
     "text": [
      "learning rate:0.0001\n",
      "epoch: 26/100, Average loss (Train):1.38722, Average loss (test):0.35763, acc(train):45.7104, acc(test):46.0156\n",
      "Epoch:26\n"
     ]
    },
    {
     "name": "stderr",
     "output_type": "stream",
     "text": [
      "113it [00:20,  5.45it/s]\n"
     ]
    },
    {
     "name": "stdout",
     "output_type": "stream",
     "text": [
      "learning rate:0.0001\n",
      "epoch: 27/100, Average loss (Train):1.39833, Average loss (test):0.36169, acc(train):45.3690, acc(test):45.2354\n",
      "Epoch:27\n"
     ]
    },
    {
     "name": "stderr",
     "output_type": "stream",
     "text": [
      "113it [00:27,  4.16it/s]\n"
     ]
    },
    {
     "name": "stdout",
     "output_type": "stream",
     "text": [
      "learning rate:0.0001\n",
      "epoch: 28/100, Average loss (Train):1.37288, Average loss (test):0.35843, acc(train):46.7171, acc(test):45.5559\n",
      "Epoch:28\n"
     ]
    },
    {
     "name": "stderr",
     "output_type": "stream",
     "text": [
      "113it [00:21,  5.36it/s]\n"
     ]
    },
    {
     "name": "stdout",
     "output_type": "stream",
     "text": [
      "learning rate:0.0001\n",
      "epoch: 29/100, Average loss (Train):1.38355, Average loss (test):0.36234, acc(train):46.0483, acc(test):45.3190\n",
      "Epoch:29\n"
     ]
    },
    {
     "name": "stderr",
     "output_type": "stream",
     "text": [
      "113it [00:20,  5.42it/s]\n"
     ]
    },
    {
     "name": "stdout",
     "output_type": "stream",
     "text": [
      "learning rate:0.0001\n",
      "epoch: 30/100, Average loss (Train):1.38042, Average loss (test):0.36421, acc(train):46.0518, acc(test):45.2772\n",
      "Epoch:30\n"
     ]
    },
    {
     "name": "stderr",
     "output_type": "stream",
     "text": [
      "113it [00:20,  5.41it/s]\n"
     ]
    },
    {
     "name": "stdout",
     "output_type": "stream",
     "text": [
      "learning rate:0.0001\n",
      "epoch: 31/100, Average loss (Train):1.37077, Average loss (test):0.36157, acc(train):46.8355, acc(test):46.0713\n",
      "Epoch:31\n"
     ]
    },
    {
     "name": "stderr",
     "output_type": "stream",
     "text": [
      "113it [00:20,  5.42it/s]\n"
     ]
    },
    {
     "name": "stdout",
     "output_type": "stream",
     "text": [
      "learning rate:0.0001\n",
      "epoch: 32/100, Average loss (Train):1.36285, Average loss (test):0.36375, acc(train):47.2221, acc(test):45.6395\n",
      "Epoch:32\n"
     ]
    },
    {
     "name": "stderr",
     "output_type": "stream",
     "text": [
      "113it [00:20,  5.41it/s]\n"
     ]
    },
    {
     "name": "stdout",
     "output_type": "stream",
     "text": [
      "learning rate:0.0001\n",
      "epoch: 33/100, Average loss (Train):1.36535, Average loss (test):0.36354, acc(train):47.1490, acc(test):46.0435\n",
      "Epoch:33\n"
     ]
    },
    {
     "name": "stderr",
     "output_type": "stream",
     "text": [
      "113it [00:20,  5.41it/s]\n"
     ]
    },
    {
     "name": "stdout",
     "output_type": "stream",
     "text": [
      "learning rate:0.0001\n",
      "epoch: 34/100, Average loss (Train):1.36327, Average loss (test):0.36527, acc(train):46.8982, acc(test):45.7927\n",
      "Epoch:34\n"
     ]
    },
    {
     "name": "stderr",
     "output_type": "stream",
     "text": [
      "113it [00:20,  5.40it/s]\n"
     ]
    },
    {
     "name": "stdout",
     "output_type": "stream",
     "text": [
      "learning rate:0.0001\n",
      "epoch: 35/100, Average loss (Train):1.36199, Average loss (test):0.36543, acc(train):47.1943, acc(test):45.8345\n",
      "Epoch:35\n"
     ]
    },
    {
     "name": "stderr",
     "output_type": "stream",
     "text": [
      "113it [00:20,  5.45it/s]\n"
     ]
    },
    {
     "name": "stdout",
     "output_type": "stream",
     "text": [
      "learning rate:0.0001\n",
      "epoch: 36/100, Average loss (Train):1.35030, Average loss (test):0.36463, acc(train):47.9675, acc(test):45.7091\n",
      "Epoch:36\n"
     ]
    },
    {
     "name": "stderr",
     "output_type": "stream",
     "text": [
      "113it [00:20,  5.41it/s]\n"
     ]
    },
    {
     "name": "stdout",
     "output_type": "stream",
     "text": [
      "learning rate:0.0001\n",
      "epoch: 37/100, Average loss (Train):1.34620, Average loss (test):0.36647, acc(train):48.0024, acc(test):45.8206\n",
      "Epoch:37\n"
     ]
    },
    {
     "name": "stderr",
     "output_type": "stream",
     "text": [
      "113it [00:20,  5.45it/s]\n"
     ]
    },
    {
     "name": "stdout",
     "output_type": "stream",
     "text": [
      "learning rate:0.0001\n",
      "epoch: 38/100, Average loss (Train):1.35068, Average loss (test):0.36769, acc(train):47.7934, acc(test):45.9181\n",
      "Epoch:38\n"
     ]
    },
    {
     "name": "stderr",
     "output_type": "stream",
     "text": [
      "113it [00:20,  5.43it/s]\n"
     ]
    },
    {
     "name": "stdout",
     "output_type": "stream",
     "text": [
      "learning rate:0.0001\n",
      "epoch: 39/100, Average loss (Train):1.33925, Average loss (test):0.36789, acc(train):47.8805, acc(test):46.0713\n",
      "Epoch:39\n"
     ]
    },
    {
     "name": "stderr",
     "output_type": "stream",
     "text": [
      "113it [00:20,  5.45it/s]\n"
     ]
    },
    {
     "name": "stdout",
     "output_type": "stream",
     "text": [
      "learning rate:1e-05\n",
      "epoch: 40/100, Average loss (Train):1.33039, Average loss (test):0.36899, acc(train):48.6154, acc(test):45.7370\n",
      "Epoch:40\n"
     ]
    },
    {
     "name": "stderr",
     "output_type": "stream",
     "text": [
      "113it [00:20,  5.46it/s]\n"
     ]
    },
    {
     "name": "stdout",
     "output_type": "stream",
     "text": [
      "learning rate:1e-05\n",
      "epoch: 41/100, Average loss (Train):1.33352, Average loss (test):0.36723, acc(train):48.5980, acc(test):45.6952\n",
      "Epoch:41\n"
     ]
    },
    {
     "name": "stderr",
     "output_type": "stream",
     "text": [
      "113it [00:20,  5.43it/s]\n"
     ]
    },
    {
     "name": "stdout",
     "output_type": "stream",
     "text": [
      "learning rate:1e-05\n",
      "epoch: 42/100, Average loss (Train):1.33526, Average loss (test):0.36863, acc(train):48.3159, acc(test):45.7788\n",
      "Epoch:42\n"
     ]
    },
    {
     "name": "stderr",
     "output_type": "stream",
     "text": [
      "113it [00:20,  5.45it/s]\n"
     ]
    },
    {
     "name": "stdout",
     "output_type": "stream",
     "text": [
      "learning rate:1e-05\n",
      "epoch: 43/100, Average loss (Train):1.33597, Average loss (test):0.36832, acc(train):48.1905, acc(test):45.9320\n",
      "Epoch:43\n"
     ]
    },
    {
     "name": "stderr",
     "output_type": "stream",
     "text": [
      "113it [00:20,  5.43it/s]\n"
     ]
    },
    {
     "name": "stdout",
     "output_type": "stream",
     "text": [
      "learning rate:1e-05\n",
      "epoch: 44/100, Average loss (Train):1.33790, Average loss (test):0.36913, acc(train):48.2706, acc(test):45.8206\n",
      "Epoch:44\n"
     ]
    },
    {
     "name": "stderr",
     "output_type": "stream",
     "text": [
      "113it [00:20,  5.42it/s]\n"
     ]
    },
    {
     "name": "stdout",
     "output_type": "stream",
     "text": [
      "learning rate:1e-05\n",
      "epoch: 45/100, Average loss (Train):1.33010, Average loss (test):0.37218, acc(train):48.6224, acc(test):46.0017\n",
      "Epoch:45\n"
     ]
    },
    {
     "name": "stderr",
     "output_type": "stream",
     "text": [
      "113it [00:20,  5.38it/s]\n"
     ]
    },
    {
     "name": "stdout",
     "output_type": "stream",
     "text": [
      "learning rate:1e-05\n",
      "epoch: 46/100, Average loss (Train):1.33348, Average loss (test):0.36954, acc(train):48.5179, acc(test):45.6116\n",
      "Epoch:46\n"
     ]
    },
    {
     "name": "stderr",
     "output_type": "stream",
     "text": [
      "113it [00:23,  4.82it/s]\n"
     ]
    },
    {
     "name": "stdout",
     "output_type": "stream",
     "text": [
      "learning rate:1e-05\n",
      "epoch: 47/100, Average loss (Train):1.33134, Average loss (test):0.37040, acc(train):48.4935, acc(test):45.8624\n",
      "Epoch:47\n"
     ]
    },
    {
     "name": "stderr",
     "output_type": "stream",
     "text": [
      "113it [00:23,  4.80it/s]\n"
     ]
    },
    {
     "name": "stdout",
     "output_type": "stream",
     "text": [
      "learning rate:1e-05\n",
      "epoch: 48/100, Average loss (Train):1.33072, Average loss (test):0.37066, acc(train):48.7304, acc(test):45.7927\n",
      "Epoch:48\n"
     ]
    },
    {
     "name": "stderr",
     "output_type": "stream",
     "text": [
      "113it [00:21,  5.34it/s]\n"
     ]
    },
    {
     "name": "stdout",
     "output_type": "stream",
     "text": [
      "learning rate:1e-05\n",
      "epoch: 49/100, Average loss (Train):1.33568, Average loss (test):0.37006, acc(train):48.3681, acc(test):45.7230\n",
      "Epoch:49\n"
     ]
    },
    {
     "name": "stderr",
     "output_type": "stream",
     "text": [
      "113it [00:21,  5.38it/s]\n"
     ]
    },
    {
     "name": "stdout",
     "output_type": "stream",
     "text": [
      "learning rate:1e-05\n",
      "epoch: 50/100, Average loss (Train):1.33664, Average loss (test):0.36860, acc(train):48.2427, acc(test):45.7788\n",
      "Epoch:50\n"
     ]
    },
    {
     "name": "stderr",
     "output_type": "stream",
     "text": [
      "113it [00:22,  5.10it/s]\n"
     ]
    },
    {
     "name": "stdout",
     "output_type": "stream",
     "text": [
      "learning rate:1e-05\n",
      "epoch: 51/100, Average loss (Train):1.33636, Average loss (test):0.36963, acc(train):48.4482, acc(test):45.8345\n",
      "Epoch:51\n"
     ]
    },
    {
     "name": "stderr",
     "output_type": "stream",
     "text": [
      "113it [00:20,  5.47it/s]\n"
     ]
    },
    {
     "name": "stdout",
     "output_type": "stream",
     "text": [
      "learning rate:1e-05\n",
      "epoch: 52/100, Average loss (Train):1.32914, Average loss (test):0.37007, acc(train):48.6224, acc(test):45.9181\n",
      "Epoch:52\n"
     ]
    },
    {
     "name": "stderr",
     "output_type": "stream",
     "text": [
      "113it [00:20,  5.45it/s]\n"
     ]
    },
    {
     "name": "stdout",
     "output_type": "stream",
     "text": [
      "learning rate:1e-05\n",
      "epoch: 53/100, Average loss (Train):1.33227, Average loss (test):0.37092, acc(train):48.2497, acc(test):45.9181\n",
      "Epoch:53\n"
     ]
    },
    {
     "name": "stderr",
     "output_type": "stream",
     "text": [
      "113it [00:20,  5.47it/s]\n"
     ]
    },
    {
     "name": "stdout",
     "output_type": "stream",
     "text": [
      "learning rate:1e-05\n",
      "epoch: 54/100, Average loss (Train):1.33507, Average loss (test):0.37099, acc(train):48.1452, acc(test):45.8066\n",
      "Epoch:54\n"
     ]
    },
    {
     "name": "stderr",
     "output_type": "stream",
     "text": [
      "113it [00:20,  5.48it/s]\n"
     ]
    },
    {
     "name": "stdout",
     "output_type": "stream",
     "text": [
      "learning rate:1e-05\n",
      "epoch: 55/100, Average loss (Train):1.32552, Average loss (test):0.36960, acc(train):48.9986, acc(test):45.9599\n",
      "Epoch:55\n"
     ]
    },
    {
     "name": "stderr",
     "output_type": "stream",
     "text": [
      "113it [00:20,  5.47it/s]\n"
     ]
    },
    {
     "name": "stdout",
     "output_type": "stream",
     "text": [
      "learning rate:1e-05\n",
      "epoch: 56/100, Average loss (Train):1.32964, Average loss (test):0.37101, acc(train):48.7513, acc(test):45.7509\n",
      "Epoch:56\n"
     ]
    },
    {
     "name": "stderr",
     "output_type": "stream",
     "text": [
      "113it [00:20,  5.43it/s]\n"
     ]
    },
    {
     "name": "stdout",
     "output_type": "stream",
     "text": [
      "learning rate:1e-05\n",
      "epoch: 57/100, Average loss (Train):1.33439, Average loss (test):0.36995, acc(train):48.3995, acc(test):45.9181\n",
      "Epoch:57\n"
     ]
    },
    {
     "name": "stderr",
     "output_type": "stream",
     "text": [
      "113it [00:20,  5.42it/s]\n"
     ]
    },
    {
     "name": "stdout",
     "output_type": "stream",
     "text": [
      "learning rate:1e-05\n",
      "epoch: 58/100, Average loss (Train):1.32593, Average loss (test):0.37038, acc(train):48.7338, acc(test):45.9320\n",
      "Epoch:58\n"
     ]
    },
    {
     "name": "stderr",
     "output_type": "stream",
     "text": [
      "113it [00:20,  5.44it/s]\n"
     ]
    },
    {
     "name": "stdout",
     "output_type": "stream",
     "text": [
      "learning rate:1e-05\n",
      "epoch: 59/100, Average loss (Train):1.32753, Average loss (test):0.37132, acc(train):48.7896, acc(test):46.0156\n",
      "Epoch:59\n"
     ]
    },
    {
     "name": "stderr",
     "output_type": "stream",
     "text": [
      "113it [00:20,  5.38it/s]\n"
     ]
    },
    {
     "name": "stdout",
     "output_type": "stream",
     "text": [
      "learning rate:1.0000000000000002e-06\n",
      "epoch: 60/100, Average loss (Train):1.33033, Average loss (test):0.37043, acc(train):48.7025, acc(test):45.8624\n",
      "Epoch:60\n"
     ]
    },
    {
     "name": "stderr",
     "output_type": "stream",
     "text": [
      "113it [00:20,  5.43it/s]\n"
     ]
    },
    {
     "name": "stdout",
     "output_type": "stream",
     "text": [
      "learning rate:1.0000000000000002e-06\n",
      "epoch: 61/100, Average loss (Train):1.32940, Average loss (test):0.37124, acc(train):48.7931, acc(test):46.0017\n",
      "Epoch:61\n"
     ]
    },
    {
     "name": "stderr",
     "output_type": "stream",
     "text": [
      "113it [00:20,  5.39it/s]\n"
     ]
    },
    {
     "name": "stdout",
     "output_type": "stream",
     "text": [
      "learning rate:1.0000000000000002e-06\n",
      "epoch: 62/100, Average loss (Train):1.32473, Average loss (test):0.37029, acc(train):48.7791, acc(test):45.7648\n",
      "Epoch:62\n"
     ]
    },
    {
     "name": "stderr",
     "output_type": "stream",
     "text": [
      "113it [00:20,  5.42it/s]\n"
     ]
    },
    {
     "name": "stdout",
     "output_type": "stream",
     "text": [
      "learning rate:1.0000000000000002e-06\n",
      "epoch: 63/100, Average loss (Train):1.33216, Average loss (test):0.37018, acc(train):48.4134, acc(test):45.7648\n",
      "Epoch:63\n"
     ]
    },
    {
     "name": "stderr",
     "output_type": "stream",
     "text": [
      "113it [00:20,  5.44it/s]\n"
     ]
    },
    {
     "name": "stdout",
     "output_type": "stream",
     "text": [
      "learning rate:1.0000000000000002e-06\n",
      "epoch: 64/100, Average loss (Train):1.32885, Average loss (test):0.36926, acc(train):48.6189, acc(test):45.8484\n",
      "Epoch:64\n"
     ]
    },
    {
     "name": "stderr",
     "output_type": "stream",
     "text": [
      "113it [00:20,  5.41it/s]\n"
     ]
    },
    {
     "name": "stdout",
     "output_type": "stream",
     "text": [
      "learning rate:1.0000000000000002e-06\n",
      "epoch: 65/100, Average loss (Train):1.32801, Average loss (test):0.37034, acc(train):49.0682, acc(test):46.0017\n",
      "Epoch:65\n"
     ]
    },
    {
     "name": "stderr",
     "output_type": "stream",
     "text": [
      "113it [00:21,  5.35it/s]\n"
     ]
    },
    {
     "name": "stdout",
     "output_type": "stream",
     "text": [
      "learning rate:1.0000000000000002e-06\n",
      "epoch: 66/100, Average loss (Train):1.32743, Average loss (test):0.36912, acc(train):48.4308, acc(test):46.0156\n",
      "Epoch:66\n"
     ]
    },
    {
     "name": "stderr",
     "output_type": "stream",
     "text": [
      "113it [00:24,  4.66it/s]\n"
     ]
    },
    {
     "name": "stdout",
     "output_type": "stream",
     "text": [
      "learning rate:1.0000000000000002e-06\n",
      "epoch: 67/100, Average loss (Train):1.32812, Average loss (test):0.37078, acc(train):48.6363, acc(test):45.9320\n",
      "Epoch:67\n"
     ]
    },
    {
     "name": "stderr",
     "output_type": "stream",
     "text": [
      "113it [00:23,  4.79it/s]\n"
     ]
    },
    {
     "name": "stdout",
     "output_type": "stream",
     "text": [
      "learning rate:1.0000000000000002e-06\n",
      "epoch: 68/100, Average loss (Train):1.33197, Average loss (test):0.36920, acc(train):48.7199, acc(test):45.6952\n",
      "Epoch:68\n"
     ]
    },
    {
     "name": "stderr",
     "output_type": "stream",
     "text": [
      "113it [00:22,  5.00it/s]\n"
     ]
    },
    {
     "name": "stdout",
     "output_type": "stream",
     "text": [
      "learning rate:1.0000000000000002e-06\n",
      "epoch: 69/100, Average loss (Train):1.32532, Average loss (test):0.37018, acc(train):48.5597, acc(test):45.9877\n",
      "Epoch:69\n"
     ]
    },
    {
     "name": "stderr",
     "output_type": "stream",
     "text": [
      "113it [00:21,  5.25it/s]\n"
     ]
    },
    {
     "name": "stdout",
     "output_type": "stream",
     "text": [
      "learning rate:1.0000000000000002e-06\n",
      "epoch: 70/100, Average loss (Train):1.32214, Average loss (test):0.37100, acc(train):48.9045, acc(test):45.9877\n",
      "Epoch:70\n"
     ]
    },
    {
     "name": "stderr",
     "output_type": "stream",
     "text": [
      "113it [00:20,  5.44it/s]\n"
     ]
    },
    {
     "name": "stdout",
     "output_type": "stream",
     "text": [
      "learning rate:1.0000000000000002e-06\n",
      "epoch: 71/100, Average loss (Train):1.32838, Average loss (test):0.36864, acc(train):48.8140, acc(test):45.8763\n",
      "Epoch:71\n"
     ]
    },
    {
     "name": "stderr",
     "output_type": "stream",
     "text": [
      "113it [00:20,  5.43it/s]\n"
     ]
    },
    {
     "name": "stdout",
     "output_type": "stream",
     "text": [
      "learning rate:1.0000000000000002e-06\n",
      "epoch: 72/100, Average loss (Train):1.32143, Average loss (test):0.37175, acc(train):48.9463, acc(test):45.9877\n",
      "Epoch:72\n"
     ]
    },
    {
     "name": "stderr",
     "output_type": "stream",
     "text": [
      "113it [00:20,  5.41it/s]\n"
     ]
    },
    {
     "name": "stdout",
     "output_type": "stream",
     "text": [
      "learning rate:1.0000000000000002e-06\n",
      "epoch: 73/100, Average loss (Train):1.32467, Average loss (test):0.36973, acc(train):48.9185, acc(test):45.7648\n",
      "Epoch:73\n"
     ]
    },
    {
     "name": "stderr",
     "output_type": "stream",
     "text": [
      "113it [00:20,  5.41it/s]\n"
     ]
    },
    {
     "name": "stdout",
     "output_type": "stream",
     "text": [
      "learning rate:1.0000000000000002e-06\n",
      "epoch: 74/100, Average loss (Train):1.32301, Average loss (test):0.37162, acc(train):48.8941, acc(test):45.8345\n",
      "Epoch:74\n"
     ]
    },
    {
     "name": "stderr",
     "output_type": "stream",
     "text": [
      "113it [00:20,  5.42it/s]\n"
     ]
    },
    {
     "name": "stdout",
     "output_type": "stream",
     "text": [
      "learning rate:1.0000000000000002e-06\n",
      "epoch: 75/100, Average loss (Train):1.32619, Average loss (test):0.37037, acc(train):48.9219, acc(test):45.4305\n",
      "Epoch:75\n"
     ]
    },
    {
     "name": "stderr",
     "output_type": "stream",
     "text": [
      "113it [00:20,  5.43it/s]\n"
     ]
    },
    {
     "name": "stdout",
     "output_type": "stream",
     "text": [
      "learning rate:1.0000000000000002e-06\n",
      "epoch: 76/100, Average loss (Train):1.33342, Average loss (test):0.36944, acc(train):48.5492, acc(test):45.6952\n",
      "Epoch:76\n"
     ]
    },
    {
     "name": "stderr",
     "output_type": "stream",
     "text": [
      "113it [00:20,  5.47it/s]\n"
     ]
    },
    {
     "name": "stdout",
     "output_type": "stream",
     "text": [
      "learning rate:1.0000000000000002e-06\n",
      "epoch: 77/100, Average loss (Train):1.32388, Average loss (test):0.37089, acc(train):48.6293, acc(test):45.9599\n",
      "Epoch:77\n"
     ]
    },
    {
     "name": "stderr",
     "output_type": "stream",
     "text": [
      "113it [00:20,  5.46it/s]\n"
     ]
    },
    {
     "name": "stdout",
     "output_type": "stream",
     "text": [
      "learning rate:1.0000000000000002e-06\n",
      "epoch: 78/100, Average loss (Train):1.32151, Average loss (test):0.37125, acc(train):49.1727, acc(test):45.9599\n",
      "Epoch:78\n"
     ]
    },
    {
     "name": "stderr",
     "output_type": "stream",
     "text": [
      "113it [00:20,  5.43it/s]\n"
     ]
    },
    {
     "name": "stdout",
     "output_type": "stream",
     "text": [
      "learning rate:1.0000000000000002e-06\n",
      "epoch: 79/100, Average loss (Train):1.31823, Average loss (test):0.37146, acc(train):49.3399, acc(test):45.8902\n",
      "Epoch:79\n"
     ]
    },
    {
     "name": "stderr",
     "output_type": "stream",
     "text": [
      "113it [00:20,  5.45it/s]\n"
     ]
    },
    {
     "name": "stdout",
     "output_type": "stream",
     "text": [
      "learning rate:1.0000000000000002e-07\n",
      "epoch: 80/100, Average loss (Train):1.32248, Average loss (test):0.36997, acc(train):48.9951, acc(test):46.1131\n",
      "Epoch:80\n"
     ]
    },
    {
     "name": "stderr",
     "output_type": "stream",
     "text": [
      "113it [00:20,  5.47it/s]\n"
     ]
    },
    {
     "name": "stdout",
     "output_type": "stream",
     "text": [
      "learning rate:1.0000000000000002e-07\n",
      "epoch: 81/100, Average loss (Train):1.32863, Average loss (test):0.37015, acc(train):48.9428, acc(test):45.8484\n",
      "Epoch:81\n"
     ]
    },
    {
     "name": "stderr",
     "output_type": "stream",
     "text": [
      "113it [00:20,  5.45it/s]\n"
     ]
    },
    {
     "name": "stdout",
     "output_type": "stream",
     "text": [
      "learning rate:1.0000000000000002e-07\n",
      "epoch: 82/100, Average loss (Train):1.32588, Average loss (test):0.37188, acc(train):48.4656, acc(test):45.9599\n",
      "Epoch:82\n"
     ]
    },
    {
     "name": "stderr",
     "output_type": "stream",
     "text": [
      "113it [00:20,  5.43it/s]\n"
     ]
    },
    {
     "name": "stdout",
     "output_type": "stream",
     "text": [
      "learning rate:1.0000000000000002e-07\n",
      "epoch: 83/100, Average loss (Train):1.32633, Average loss (test):0.37224, acc(train):48.6886, acc(test):45.9877\n",
      "Epoch:83\n"
     ]
    },
    {
     "name": "stderr",
     "output_type": "stream",
     "text": [
      "113it [00:20,  5.45it/s]\n"
     ]
    },
    {
     "name": "stdout",
     "output_type": "stream",
     "text": [
      "learning rate:1.0000000000000002e-07\n",
      "epoch: 84/100, Average loss (Train):1.32357, Average loss (test):0.36993, acc(train):48.8000, acc(test):45.7230\n",
      "Epoch:84\n"
     ]
    },
    {
     "name": "stderr",
     "output_type": "stream",
     "text": [
      "113it [00:20,  5.44it/s]\n"
     ]
    },
    {
     "name": "stdout",
     "output_type": "stream",
     "text": [
      "learning rate:1.0000000000000002e-07\n",
      "epoch: 85/100, Average loss (Train):1.33258, Average loss (test):0.36891, acc(train):48.7129, acc(test):45.9181\n",
      "Epoch:85\n"
     ]
    },
    {
     "name": "stderr",
     "output_type": "stream",
     "text": [
      "113it [00:20,  5.43it/s]\n"
     ]
    },
    {
     "name": "stdout",
     "output_type": "stream",
     "text": [
      "learning rate:1.0000000000000002e-07\n",
      "epoch: 86/100, Average loss (Train):1.32519, Average loss (test):0.37165, acc(train):48.9359, acc(test):45.8763\n",
      "Epoch:86\n"
     ]
    },
    {
     "name": "stderr",
     "output_type": "stream",
     "text": [
      "113it [00:20,  5.44it/s]\n"
     ]
    },
    {
     "name": "stdout",
     "output_type": "stream",
     "text": [
      "learning rate:1.0000000000000002e-07\n",
      "epoch: 87/100, Average loss (Train):1.32477, Average loss (test):0.37064, acc(train):49.0055, acc(test):45.7230\n",
      "Epoch:87\n"
     ]
    },
    {
     "name": "stderr",
     "output_type": "stream",
     "text": [
      "113it [00:20,  5.43it/s]\n"
     ]
    },
    {
     "name": "stdout",
     "output_type": "stream",
     "text": [
      "learning rate:1.0000000000000002e-07\n",
      "epoch: 88/100, Average loss (Train):1.33173, Average loss (test):0.37069, acc(train):48.5736, acc(test):45.6673\n",
      "Epoch:88\n"
     ]
    },
    {
     "name": "stderr",
     "output_type": "stream",
     "text": [
      "113it [00:20,  5.45it/s]\n"
     ]
    },
    {
     "name": "stdout",
     "output_type": "stream",
     "text": [
      "learning rate:1.0000000000000002e-07\n",
      "epoch: 89/100, Average loss (Train):1.32685, Average loss (test):0.37147, acc(train):49.1832, acc(test):45.7788\n",
      "Epoch:89\n"
     ]
    },
    {
     "name": "stderr",
     "output_type": "stream",
     "text": [
      "113it [00:20,  5.43it/s]\n"
     ]
    },
    {
     "name": "stdout",
     "output_type": "stream",
     "text": [
      "learning rate:1.0000000000000002e-07\n",
      "epoch: 90/100, Average loss (Train):1.32102, Average loss (test):0.37205, acc(train):48.8976, acc(test):45.8763\n",
      "Epoch:90\n"
     ]
    },
    {
     "name": "stderr",
     "output_type": "stream",
     "text": [
      "113it [00:20,  5.45it/s]\n"
     ]
    },
    {
     "name": "stdout",
     "output_type": "stream",
     "text": [
      "learning rate:1.0000000000000002e-07\n",
      "epoch: 91/100, Average loss (Train):1.32581, Average loss (test):0.37171, acc(train):48.7547, acc(test):45.5837\n",
      "Epoch:91\n"
     ]
    },
    {
     "name": "stderr",
     "output_type": "stream",
     "text": [
      "113it [00:20,  5.41it/s]\n"
     ]
    },
    {
     "name": "stdout",
     "output_type": "stream",
     "text": [
      "learning rate:1.0000000000000002e-07\n",
      "epoch: 92/100, Average loss (Train):1.32405, Average loss (test):0.37091, acc(train):49.0160, acc(test):45.8206\n",
      "Epoch:92\n"
     ]
    },
    {
     "name": "stderr",
     "output_type": "stream",
     "text": [
      "113it [00:20,  5.45it/s]\n"
     ]
    },
    {
     "name": "stdout",
     "output_type": "stream",
     "text": [
      "learning rate:1.0000000000000002e-07\n",
      "epoch: 93/100, Average loss (Train):1.32756, Average loss (test):0.37218, acc(train):48.4378, acc(test):45.9181\n",
      "Epoch:93\n"
     ]
    },
    {
     "name": "stderr",
     "output_type": "stream",
     "text": [
      "113it [00:20,  5.44it/s]\n"
     ]
    },
    {
     "name": "stdout",
     "output_type": "stream",
     "text": [
      "learning rate:1.0000000000000002e-07\n",
      "epoch: 94/100, Average loss (Train):1.32763, Average loss (test):0.36908, acc(train):48.8488, acc(test):45.7509\n",
      "Epoch:94\n"
     ]
    },
    {
     "name": "stderr",
     "output_type": "stream",
     "text": [
      "113it [00:20,  5.43it/s]\n"
     ]
    },
    {
     "name": "stdout",
     "output_type": "stream",
     "text": [
      "learning rate:1.0000000000000002e-07\n",
      "epoch: 95/100, Average loss (Train):1.33154, Average loss (test):0.36999, acc(train):48.7095, acc(test):45.8066\n",
      "Epoch:95\n"
     ]
    },
    {
     "name": "stderr",
     "output_type": "stream",
     "text": [
      "113it [00:20,  5.44it/s]\n"
     ]
    },
    {
     "name": "stdout",
     "output_type": "stream",
     "text": [
      "learning rate:1.0000000000000002e-07\n",
      "epoch: 96/100, Average loss (Train):1.32378, Average loss (test):0.37125, acc(train):48.9777, acc(test):45.8484\n",
      "Epoch:96\n"
     ]
    },
    {
     "name": "stderr",
     "output_type": "stream",
     "text": [
      "113it [00:20,  5.43it/s]\n"
     ]
    },
    {
     "name": "stdout",
     "output_type": "stream",
     "text": [
      "learning rate:1.0000000000000002e-07\n",
      "epoch: 97/100, Average loss (Train):1.32167, Average loss (test):0.36994, acc(train):49.1971, acc(test):45.8345\n",
      "Epoch:97\n"
     ]
    },
    {
     "name": "stderr",
     "output_type": "stream",
     "text": [
      "113it [00:20,  5.45it/s]\n"
     ]
    },
    {
     "name": "stdout",
     "output_type": "stream",
     "text": [
      "learning rate:1.0000000000000002e-07\n",
      "epoch: 98/100, Average loss (Train):1.32482, Average loss (test):0.37141, acc(train):48.5562, acc(test):45.7927\n",
      "Epoch:98\n"
     ]
    },
    {
     "name": "stderr",
     "output_type": "stream",
     "text": [
      "113it [00:20,  5.46it/s]\n"
     ]
    },
    {
     "name": "stdout",
     "output_type": "stream",
     "text": [
      "learning rate:1.0000000000000002e-07\n",
      "epoch: 99/100, Average loss (Train):1.32470, Average loss (test):0.37009, acc(train):48.8871, acc(test):46.0156\n",
      "Epoch:99\n"
     ]
    },
    {
     "name": "stderr",
     "output_type": "stream",
     "text": [
      "113it [00:20,  5.43it/s]\n"
     ]
    },
    {
     "name": "stdout",
     "output_type": "stream",
     "text": [
      "learning rate:1.0000000000000002e-07\n",
      "epoch: 100/100, Average loss (Train):1.32328, Average loss (test):0.37225, acc(train):49.1309, acc(test):45.9181\n",
      "training done.\n",
      "Model saved.\n"
     ]
    }
   ],
   "source": [
    "from tqdm import tqdm\n",
    "\n",
    "def evalmodel(model, testloader, loss):\n",
    "    model.eval()\n",
    "    test_loss_cnn = 0\n",
    "    correct = 0\n",
    "    total = 0\n",
    "    with torch.no_grad():\n",
    "        for batch_idx, (data, target) in enumerate(testloader):\n",
    "            data, target = data.to(device), target.to(device)\n",
    "            output_cnn = model(data)\n",
    "            loss_cnn = loss(output_cnn,target)  \n",
    "            \n",
    "            test_loss_cnn += loss_cnn*len(target)\n",
    "            _, predicted = torch.max(output_cnn.data, 1)\n",
    "            total += target.size(0)\n",
    "            correct += (predicted == target).sum().item()\n",
    "        # the class with the highest energy is what we choose as prediction\n",
    "    test_loss_cnn /= len(testloader)\n",
    "    acc = 100 * correct / total\n",
    "    return test_loss_cnn, acc\n",
    "\n",
    "def train(model_cnn, loss, optimizer_cnn, scheduler):  \n",
    "    log_loss_train=[]\n",
    "    log_loss_test=[]\n",
    "    for epoch in range(total_epoch):\n",
    "        scheduler.step()\n",
    "        print('Epoch:{}'.format(epoch))\n",
    "        # train\n",
    "        model_cnn.train()\n",
    "        loss_train = 0\n",
    "        for batch_idx, (data, target) in tqdm(enumerate(dataloader_train)):\n",
    "            data, target = data.to(device), target.to(device)\n",
    "            optimizer_cnn.zero_grad()\n",
    "            output_cnn = model_cnn(data)\n",
    "            loss_cnn = loss(output_cnn,target)  \n",
    "            loss_cnn.backward()\n",
    "            optimizer_cnn.step()\n",
    "#             loss_train += loss_cnn*len(target)\n",
    "#         loss_train /= len(dataset_train)\n",
    "\n",
    "        # test\n",
    "        if epoch % 1 == 0:\n",
    "            train_loss, train_acc= evalmodel(model_cnn, dataloader_train, loss)\n",
    "            test_loss, test_acc= evalmodel(model_cnn, dataloader_test, loss)\n",
    "            log_loss_train.append(train_loss)\n",
    "            log_loss_test.append(test_loss)\n",
    "            print('learning rate:{}'.format(scheduler.get_last_lr()[0]))\n",
    "            print('epoch: {}/{}, Average loss (Train):{:.5f}, Average loss (test):{:.5f}, acc(train):{:.4f}, acc(test):{:.4f}'.format(\n",
    "                epoch+1, total_epoch, train_loss, test_loss, train_acc, test_acc))\n",
    "        \n",
    "    print('training done.')\n",
    "    return model_cnn, log_loss_train, log_loss_test\n",
    "# 步驟0. 是否使用CUDA \n",
    "# os.environ['CUDA_LAUNCH_BLOCKING'] = \"1\" \n",
    "use_cuda = 1\n",
    "device = torch.device(\"cuda\" if (torch.cuda.is_available() & use_cuda) else \"cpu\")\n",
    "print(device)\n",
    "##############\n",
    "\n",
    "total_epoch=100\n",
    "lr = 0.001\n",
    "batch_size=256\n",
    "num_workers=0\n",
    "\n",
    "# 步驟1. data loader處理 \n",
    "mytransform_woDA = transforms.Compose([\n",
    "            transforms.Resize((48,48)),\n",
    "            transforms.ToTensor()\n",
    "            ])\n",
    "\n",
    "transform_set = [ \n",
    "            transforms.RandomCrop(32, padding=4),\n",
    "            transforms.RandomRotation(degrees=(-15,15)),\n",
    "            transforms.RandomHorizontalFlip(p=0.5),\n",
    "            transforms.ColorJitter(brightness=(0.8, 1.3), contrast=(\n",
    "                        0.8, 1.3), saturation=(.8, 1.3), hue=(-0.1, 0.1))\n",
    "]\n",
    "mytransform_wDA = transforms.Compose([\n",
    "                            transforms.RandomApply(transform_set, p=0.5),\n",
    "                            transforms.Resize((48,48)),\n",
    "                            transforms.ToTensor()])\n",
    "\n",
    "dataset_train = MyDataset(transforms=mytransform_wDA, isTrain=True)\n",
    "dataset_test = MyDataset(transforms=mytransform_woDA, isTrain=False)\n",
    "dataloader_train = torch.utils.data.DataLoader(dataset_train, batch_size=batch_size, num_workers=num_workers,shuffle=True)\n",
    "dataloader_test = torch.utils.data.DataLoader(dataset_test, batch_size=batch_size, num_workers=num_workers,shuffle=False)\n",
    "# initialize the ConvNet\n",
    "# model_cnn = ConvNet(n_class=7).to(device)\n",
    "model_cnn = RESNET18(num_classes=7).to(device)\n",
    "\n",
    "# 步驟3. loss function宣告\n",
    "loss = torch.nn.CrossEntropyLoss().to(device)\n",
    "# 步驟4. optimator宣告\n",
    "optimizer_cnn = optim.Adam(model_cnn.parameters(), lr=lr)\n",
    "scheduler = torch.optim.lr_scheduler.MultiStepLR(optimizer_cnn, milestones=[20,40,60,80], gamma=0.1)\n",
    "\n",
    "print('total training iter:{}'.format(len(dataloader_train)))\n",
    "print('total test iter:{}'.format(len(dataloader_test)))   \n",
    "\n",
    "# 步驟5. CNN模型開始訓練\n",
    "model_cnn, log_loss_train, log_loss_test = train(model_cnn, loss, optimizer_cnn, scheduler)\n",
    "checkpoint={}\n",
    "checkpoint['log_loss_train']=log_loss_train\n",
    "checkpoint['log_loss_test']=log_loss_test\n",
    "checkpoint['model_dict'] = model_cnn.state_dict()\n",
    "torch.save(checkpoint, 'Model_resnet18_fer2013_scheduler.pth')\n",
    "print('Model saved.')"
   ]
  },
  {
   "cell_type": "code",
   "execution_count": 7,
   "id": "wrong-sunday",
   "metadata": {},
   "outputs": [
    {
     "data": {
      "image/png": "[encoded data removed]",
      "text/plain": [
       "<Figure size 432x288 with 1 Axes>"
      ]
     },
     "metadata": {
      "needs_background": "light"
     },
     "output_type": "display_data"
    }
   ],
   "source": [
    "\n",
    "plt.plot([tmp.cpu().detach().numpy()  for tmp in log_loss_train])\n",
    "plt.plot([tmp.cpu().detach().numpy()  for tmp in log_loss_test])\n",
    "plt.title('Loss (Epoch)')\n",
    "plt.show()"
   ]
  },
  {
   "cell_type": "code",
   "execution_count": null,
   "id": "bottom-explosion",
   "metadata": {},
   "outputs": [],
   "source": [
    "\n",
    "# mytransform = transforms.Compose([\n",
    "#         transforms.Resize((28,28)),\n",
    "#         transforms.ToTensor()\n",
    "#         ])\n",
    "# model_mlp.eval()  \n",
    "# model_cnn.eval() \n",
    "# #114_100.jpg#\n",
    "# #123_100.jpg#\n",
    "# #r_176_100.jpg#\n",
    "# image_names = ['./dataset/Example_fruit/Test/114_100.jpg',\n",
    "#               './dataset/Example_fruit/Test/123_100.jpg',\n",
    "#               './dataset/Example_fruit/Test/r_176_100.jpg']\n",
    "# for image_name in image_names:\n",
    "#     image = Image.open(image_name, mode='r')\n",
    "#     image = image.convert('RGB')\n",
    "#     plt.imshow(image)\n",
    "#     plt.show()\n",
    "    \n",
    "#     image = mytransform(image)\n",
    "#     print(image.shape)\n",
    "#     with torch.no_grad():\n",
    "#         output_mlp = model_mlp(torch.squeeze(image))\n",
    "#         output_cnn = model_cnn(torch.unsqueeze(image,dim=0).to(device))\n",
    "#     output_mlp= F.softmax(output_mlp)\n",
    "#     output_cnn= F.softmax(output_cnn)\n",
    "\n",
    "#     list_class = ['Apple','Banana','Watermelon']\n",
    "#     for i, tmp_out in enumerate(output_mlp[0]):\n",
    "#         print('MLP: probability for {}: {:.4f}%'.format(list_class[i], tmp_out*100))\n",
    "#     print('*'*50)    \n",
    "#     for i, tmp_out in enumerate(output_cnn[0]):\n",
    "#         print('CNN: probability for {}: {:.4f}%'.format(list_class[i], tmp_out*100))"
   ]
  },
  {
   "cell_type": "code",
   "execution_count": null,
   "id": "attached-wichita",
   "metadata": {},
   "outputs": [],
   "source": []
  },
  {
   "cell_type": "code",
   "execution_count": null,
   "id": "connected-canvas",
   "metadata": {},
   "outputs": [],
   "source": []
  },
  {
   "cell_type": "code",
   "execution_count": null,
   "id": "conservative-closure",
   "metadata": {},
   "outputs": [],
   "source": []
  }
 ],
 "metadata": {
  "kernelspec": {
   "display_name": "Python 3 (ipykernel)",
   "language": "python",
   "name": "python3"
  },
  "language_info": {
   "codemirror_mode": {
    "name": "ipython",
    "version": 3
   },
   "file_extension": ".py",
   "mimetype": "text/x-python",
   "name": "python",
   "nbconvert_exporter": "python",
   "pygments_lexer": "ipython3",
   "version": "3.7.9"
  }
 },
 "nbformat": 4,
 "nbformat_minor": 5
}
