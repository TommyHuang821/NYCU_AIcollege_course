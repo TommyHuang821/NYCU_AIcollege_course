{
 "cells": [
  {
   "cell_type": "markdown",
   "id": "c9203fae",
   "metadata": {},
   "source": [
    "# Emotion Classification by FER-2013\n",
    "\n",
    "\n",
    "[Dataset FER-2013](https://www.kaggle.com/datasets/msambare/fer2013)\n",
    "\n",
    "**About Dataset**<br>\n",
    "\n",
    "The data consists of 48x48 pixel grayscale images of faces. The faces have been automatically registered so that the face is more or less centred and occupies about the same amount of space in each image.\n",
    "\n",
    "The task is to categorize each face based on the emotion shown in the facial expression into one of seven categories.\n",
    "\n",
    "|Encode|Class|\n",
    "|:---:|:---:|\n",
    "|0|Angry|\n",
    "|1|Disgust|\n",
    "|2|Fear|\n",
    "|3|Happy|\n",
    "|4|Sad|\n",
    "|5|Surprise|\n",
    "|6|Neutral|\n",
    " \n",
    " \n",
    " The training set consists of 28,709 examples and the public test set consists of 3,589 examples.\n",
    "\n"
   ]
  },
  {
   "cell_type": "code",
   "execution_count": 1,
   "id": "a72942f2",
   "metadata": {},
   "outputs": [
    {
     "name": "stdout",
     "output_type": "stream",
     "text": [
      "['angry', 'disgust', 'fear', 'happy', 'sad', 'surprise', 'neutral']\n"
     ]
    }
   ],
   "source": [
    "classnames = [tmp.lower() for tmp in ['Angry','Disgust','Fear','Happy','Sad','Surprise','Neutral']]\n",
    "print(classnames)"
   ]
  },
  {
   "cell_type": "code",
   "execution_count": 2,
   "id": "349dc7a9",
   "metadata": {},
   "outputs": [
    {
     "name": "stdout",
     "output_type": "stream",
     "text": [
      "['./dataset_fer2013/test\\\\angry\\\\PrivateTest_10131363.jpg', './dataset_fer2013/test\\\\angry\\\\PrivateTest_10304478.jpg', './dataset_fer2013/test\\\\angry\\\\PrivateTest_1054527.jpg', './dataset_fer2013/test\\\\angry\\\\PrivateTest_10590091.jpg', './dataset_fer2013/test\\\\angry\\\\PrivateTest_1109992.jpg']\n",
      "[0, 0, 0, 0, 0]\n"
     ]
    }
   ],
   "source": [
    "import json\n",
    "import os\n",
    "folder_path_train = './dataset_fer2013/train'\n",
    "folder_path_test = './dataset_fer2013/test'\n",
    "\n",
    "\n",
    "imagepaths_train, labels_train=[],[]\n",
    "for label, tmp_class in enumerate(classnames):\n",
    "    mypath = os.path.join(folder_path_train, tmp_class)\n",
    "    filenames = os.listdir(mypath)\n",
    "    for filename in filenames:\n",
    "        imagepaths_train.append(os.path.join(mypath, filename))\n",
    "        labels_train.append(label)\n",
    "        \n",
    "imagepaths_test, labels_test=[],[]\n",
    "for label, tmp_class in enumerate(classnames):\n",
    "    mypath = os.path.join(folder_path_test, tmp_class)\n",
    "    filenames = os.listdir(mypath)\n",
    "    for filename in filenames:\n",
    "        imagepaths_test.append(os.path.join(mypath, filename))\n",
    "        labels_test.append(label)\n",
    "\n",
    "    \n",
    "print(imagepaths_test[0:5])\n",
    "print(labels_test[0:5])\n",
    "\n",
    "data={}\n",
    "data['imagepaths_train']=imagepaths_train\n",
    "data['labels_train'] = labels_train\n",
    "data['imagepaths_test']=imagepaths_test\n",
    "data['labels_test'] = labels_test\n",
    "with open('fer_2013.json', 'w', newline='') as jsonfile:\n",
    "    json.dump(data, jsonfile)\n",
    "    "
   ]
  },
  {
   "cell_type": "code",
   "execution_count": 3,
   "id": "c2cd920c",
   "metadata": {},
   "outputs": [
    {
     "name": "stdout",
     "output_type": "stream",
     "text": [
      "number of training data:28709\n",
      "torch.Size([10, 3, 48, 48])\n",
      "torch.Size([10])\n"
     ]
    }
   ],
   "source": [
    "import warnings\n",
    "warnings.filterwarnings(\"ignore\")\n",
    "import torch\n",
    "from torchvision import datasets, transforms\n",
    "import torch.nn as nn\n",
    "import torch.nn.functional as F\n",
    "from torch import optim\n",
    "import PIL.Image as Image\n",
    "import numpy as np\n",
    "import matplotlib.pyplot as plt\n",
    "\n",
    "class MyDataset(torch.utils.data.Dataset):\n",
    "    '''\n",
    "    load the dataset\n",
    "    '''\n",
    "    def __init__(self,transforms, isTrain=True):\n",
    "        with open('fer_2013.json') as jsf:\n",
    "            data_load = json.load(jsf)\n",
    "        if isTrain:\n",
    "            self.imList = data_load['imagepaths_train']\n",
    "            self.labelList = data_load['labels_train']\n",
    "            print('number of training data:{}'.format(len(self.imList)))\n",
    "        else:\n",
    "            self.imList = data_load['imagepaths_test']\n",
    "            self.labelList = data_load['labels_test']   \n",
    "            print('number of test data:{}'.format(len(self.imList)))\n",
    "        self.transforms=transforms\n",
    "        \n",
    "    def __len__(self):\n",
    "        return len(self.imList)\n",
    "\n",
    "    def __getitem__(self, idx):\n",
    "        '''\n",
    "        :param idx: Index of the image file\n",
    "        :return: returns the image and corresponding label file.\n",
    "        '''\n",
    "        image_name = self.imList[idx]\n",
    "        label = self.labelList[idx] \n",
    "        # read image with PIL module\n",
    "        image = Image.open(image_name, mode='r')\n",
    "        image = image.convert('RGB')\n",
    "        # Convert PIL label image to torch.Tensor\n",
    "        image = self.transforms(image)\n",
    "        label = torch.tensor(label)\n",
    "        return image, label\n",
    "    def my_collate(batch):\n",
    "        data, targets = list(), list()\n",
    "        for b in batch:\n",
    "            data.append(b[0])\n",
    "            targets.append(b[1])\n",
    "        data = torch.stack(data,dim=0)\n",
    "        targets = torch.stack(targets,dim=0)\n",
    "        return data, targets\n",
    "    \n",
    "if __name__ == \"__main__\":\n",
    "    mytransform = transforms.Compose([\n",
    "            transforms.Resize((48,48)),\n",
    "            transforms.ToTensor()\n",
    "            ])\n",
    "    mydataset = MyDataset(transforms=mytransform, isTrain=True)\n",
    "    mydata_loader = torch.utils.data.DataLoader(mydataset, batch_size=10, num_workers=0)\n",
    "    for data in mydata_loader:\n",
    "        print(data[0].size())\n",
    "        print(data[1].size())\n",
    "        break    \n"
   ]
  },
  {
   "cell_type": "code",
   "execution_count": 4,
   "id": "f471de12",
   "metadata": {},
   "outputs": [
    {
     "name": "stdout",
     "output_type": "stream",
     "text": [
      "ResNet(\n",
      "  (conv1): Conv2d(3, 64, kernel_size=(7, 7), stride=(2, 2), padding=(3, 3), bias=False)\n",
      "  (bn1): BatchNorm2d(64, eps=1e-05, momentum=0.1, affine=True, track_running_stats=True)\n",
      "  (relu): ReLU(inplace=True)\n",
      "  (maxpool): MaxPool2d(kernel_size=3, stride=2, padding=1, dilation=1, ceil_mode=False)\n",
      "  (layer1): Sequential(\n",
      "    (0): BasicBlock(\n",
      "      (conv1): Conv2d(64, 64, kernel_size=(3, 3), stride=(1, 1), padding=(1, 1), bias=False)\n",
      "      (bn1): BatchNorm2d(64, eps=1e-05, momentum=0.1, affine=True, track_running_stats=True)\n",
      "      (relu): ReLU(inplace=True)\n",
      "      (conv2): Conv2d(64, 64, kernel_size=(3, 3), stride=(1, 1), padding=(1, 1), bias=False)\n",
      "      (bn2): BatchNorm2d(64, eps=1e-05, momentum=0.1, affine=True, track_running_stats=True)\n",
      "    )\n",
      "    (1): BasicBlock(\n",
      "      (conv1): Conv2d(64, 64, kernel_size=(3, 3), stride=(1, 1), padding=(1, 1), bias=False)\n",
      "      (bn1): BatchNorm2d(64, eps=1e-05, momentum=0.1, affine=True, track_running_stats=True)\n",
      "      (relu): ReLU(inplace=True)\n",
      "      (conv2): Conv2d(64, 64, kernel_size=(3, 3), stride=(1, 1), padding=(1, 1), bias=False)\n",
      "      (bn2): BatchNorm2d(64, eps=1e-05, momentum=0.1, affine=True, track_running_stats=True)\n",
      "    )\n",
      "  )\n",
      "  (layer2): Sequential(\n",
      "    (0): BasicBlock(\n",
      "      (conv1): Conv2d(64, 128, kernel_size=(3, 3), stride=(2, 2), padding=(1, 1), bias=False)\n",
      "      (bn1): BatchNorm2d(128, eps=1e-05, momentum=0.1, affine=True, track_running_stats=True)\n",
      "      (relu): ReLU(inplace=True)\n",
      "      (conv2): Conv2d(128, 128, kernel_size=(3, 3), stride=(1, 1), padding=(1, 1), bias=False)\n",
      "      (bn2): BatchNorm2d(128, eps=1e-05, momentum=0.1, affine=True, track_running_stats=True)\n",
      "      (downsample): Sequential(\n",
      "        (0): Conv2d(64, 128, kernel_size=(1, 1), stride=(2, 2), bias=False)\n",
      "        (1): BatchNorm2d(128, eps=1e-05, momentum=0.1, affine=True, track_running_stats=True)\n",
      "      )\n",
      "    )\n",
      "    (1): BasicBlock(\n",
      "      (conv1): Conv2d(128, 128, kernel_size=(3, 3), stride=(1, 1), padding=(1, 1), bias=False)\n",
      "      (bn1): BatchNorm2d(128, eps=1e-05, momentum=0.1, affine=True, track_running_stats=True)\n",
      "      (relu): ReLU(inplace=True)\n",
      "      (conv2): Conv2d(128, 128, kernel_size=(3, 3), stride=(1, 1), padding=(1, 1), bias=False)\n",
      "      (bn2): BatchNorm2d(128, eps=1e-05, momentum=0.1, affine=True, track_running_stats=True)\n",
      "    )\n",
      "  )\n",
      "  (layer3): Sequential(\n",
      "    (0): BasicBlock(\n",
      "      (conv1): Conv2d(128, 256, kernel_size=(3, 3), stride=(2, 2), padding=(1, 1), bias=False)\n",
      "      (bn1): BatchNorm2d(256, eps=1e-05, momentum=0.1, affine=True, track_running_stats=True)\n",
      "      (relu): ReLU(inplace=True)\n",
      "      (conv2): Conv2d(256, 256, kernel_size=(3, 3), stride=(1, 1), padding=(1, 1), bias=False)\n",
      "      (bn2): BatchNorm2d(256, eps=1e-05, momentum=0.1, affine=True, track_running_stats=True)\n",
      "      (downsample): Sequential(\n",
      "        (0): Conv2d(128, 256, kernel_size=(1, 1), stride=(2, 2), bias=False)\n",
      "        (1): BatchNorm2d(256, eps=1e-05, momentum=0.1, affine=True, track_running_stats=True)\n",
      "      )\n",
      "    )\n",
      "    (1): BasicBlock(\n",
      "      (conv1): Conv2d(256, 256, kernel_size=(3, 3), stride=(1, 1), padding=(1, 1), bias=False)\n",
      "      (bn1): BatchNorm2d(256, eps=1e-05, momentum=0.1, affine=True, track_running_stats=True)\n",
      "      (relu): ReLU(inplace=True)\n",
      "      (conv2): Conv2d(256, 256, kernel_size=(3, 3), stride=(1, 1), padding=(1, 1), bias=False)\n",
      "      (bn2): BatchNorm2d(256, eps=1e-05, momentum=0.1, affine=True, track_running_stats=True)\n",
      "    )\n",
      "  )\n",
      "  (layer4): Sequential(\n",
      "    (0): BasicBlock(\n",
      "      (conv1): Conv2d(256, 512, kernel_size=(3, 3), stride=(2, 2), padding=(1, 1), bias=False)\n",
      "      (bn1): BatchNorm2d(512, eps=1e-05, momentum=0.1, affine=True, track_running_stats=True)\n",
      "      (relu): ReLU(inplace=True)\n",
      "      (conv2): Conv2d(512, 512, kernel_size=(3, 3), stride=(1, 1), padding=(1, 1), bias=False)\n",
      "      (bn2): BatchNorm2d(512, eps=1e-05, momentum=0.1, affine=True, track_running_stats=True)\n",
      "      (downsample): Sequential(\n",
      "        (0): Conv2d(256, 512, kernel_size=(1, 1), stride=(2, 2), bias=False)\n",
      "        (1): BatchNorm2d(512, eps=1e-05, momentum=0.1, affine=True, track_running_stats=True)\n",
      "      )\n",
      "    )\n",
      "    (1): BasicBlock(\n",
      "      (conv1): Conv2d(512, 512, kernel_size=(3, 3), stride=(1, 1), padding=(1, 1), bias=False)\n",
      "      (bn1): BatchNorm2d(512, eps=1e-05, momentum=0.1, affine=True, track_running_stats=True)\n",
      "      (relu): ReLU(inplace=True)\n",
      "      (conv2): Conv2d(512, 512, kernel_size=(3, 3), stride=(1, 1), padding=(1, 1), bias=False)\n",
      "      (bn2): BatchNorm2d(512, eps=1e-05, momentum=0.1, affine=True, track_running_stats=True)\n",
      "    )\n",
      "  )\n",
      "  (avgpool): AdaptiveAvgPool2d(output_size=(1, 1))\n",
      "  (fc): Linear(in_features=512, out_features=7, bias=True)\n",
      ")\n"
     ]
    }
   ],
   "source": [
    "import torchvision.models as models\n",
    "# https://pytorch.org/vision/stable/models.html\n",
    "def set_parameter_requires_grad(model, feature_extracting):\n",
    "    if feature_extracting:\n",
    "        for param in model.parameters():\n",
    "            param.requires_grad = True\n",
    "\n",
    "# restnet18_modelzoo = models.resnet18(pretrained=True)\n",
    "\n",
    "model_cnn = models.resnet18(pretrained=True)\n",
    "set_parameter_requires_grad(model_cnn, True)\n",
    "model_cnn.fc = nn.Linear(model_cnn.fc.in_features, 7)\n",
    "print(model_cnn)\n",
    "\n",
    "# alexnet = models.alexnet(pretrained=False)\n",
    "# squeezenet = models.squeezenet1_0(pretrained=False)\n",
    "# vgg16 = models.vgg16(pretrained=False)\n",
    "# densenet = models.densenet161(pretrained=False)\n",
    "# inception = models.inception_v3(pretrained=False)\n",
    "# googlenet = models.googlenet(pretrained=False)\n",
    "# shufflenet = models.shufflenet_v2_x1_0(pretrained=False)\n",
    "# mobilenet_v2 = models.mobilenet_v2(pretrained=False)\n",
    "# mobilenet_v3_large = models.mobilenet_v3_large(pretrained=False)\n",
    "# mobilenet_v3_small = models.mobilenet_v3_small(pretrained=False)\n",
    "# resnext50_32x4d = models.resnext50_32x4d(pretrained=False)\n",
    "# wide_resnet50_2 = models.wide_resnet50_2(pretrained=False)\n",
    "# mnasnet = models.mnasnet1_0(pretrained=False)\n"
   ]
  },
  {
   "cell_type": "code",
   "execution_count": 5,
   "id": "3673ebf1",
   "metadata": {
    "scrolled": true
   },
   "outputs": [
    {
     "name": "stdout",
     "output_type": "stream",
     "text": [
      "cuda\n",
      "number of training data:28709\n",
      "number of test data:7178\n",
      "total training iter:113\n",
      "total test iter:29\n",
      "Epoch:0\n"
     ]
    },
    {
     "name": "stderr",
     "output_type": "stream",
     "text": [
      "113it [06:04,  3.23s/it]\n"
     ]
    },
    {
     "name": "stdout",
     "output_type": "stream",
     "text": [
      "learning rate:0.001\n",
      "epoch: 1/100, Average loss (Train):376.46262, Average loss (test):345.57498, acc(train):41.5549, acc(test):45.7091\n",
      "Epoch:1\n"
     ]
    },
    {
     "name": "stderr",
     "output_type": "stream",
     "text": [
      "113it [00:16,  6.98it/s]\n"
     ]
    },
    {
     "name": "stdout",
     "output_type": "stream",
     "text": [
      "learning rate:0.001\n",
      "epoch: 2/100, Average loss (Train):330.89227, Average loss (test):306.59677, acc(train):51.6214, acc(test):53.4411\n",
      "Epoch:2\n"
     ]
    },
    {
     "name": "stderr",
     "output_type": "stream",
     "text": [
      "113it [00:16,  6.78it/s]\n"
     ]
    },
    {
     "name": "stdout",
     "output_type": "stream",
     "text": [
      "learning rate:0.001\n",
      "epoch: 3/100, Average loss (Train):294.25168, Average loss (test):280.24899, acc(train):56.4178, acc(test):57.7877\n",
      "Epoch:3\n"
     ]
    },
    {
     "name": "stderr",
     "output_type": "stream",
     "text": [
      "113it [00:16,  6.82it/s]\n"
     ]
    },
    {
     "name": "stdout",
     "output_type": "stream",
     "text": [
      "learning rate:0.001\n",
      "epoch: 4/100, Average loss (Train):272.36765, Average loss (test):269.78040, acc(train):60.1623, acc(test):59.2644\n",
      "Epoch:4\n"
     ]
    },
    {
     "name": "stderr",
     "output_type": "stream",
     "text": [
      "113it [00:16,  7.02it/s]\n"
     ]
    },
    {
     "name": "stdout",
     "output_type": "stream",
     "text": [
      "learning rate:0.001\n",
      "epoch: 5/100, Average loss (Train):274.06519, Average loss (test):277.69321, acc(train):59.4413, acc(test):58.6932\n",
      "Epoch:5\n"
     ]
    },
    {
     "name": "stderr",
     "output_type": "stream",
     "text": [
      "113it [00:17,  6.49it/s]\n"
     ]
    },
    {
     "name": "stdout",
     "output_type": "stream",
     "text": [
      "learning rate:0.001\n",
      "epoch: 6/100, Average loss (Train):263.67667, Average loss (test):271.37704, acc(train):61.1620, acc(test):60.1003\n",
      "Epoch:6\n"
     ]
    },
    {
     "name": "stderr",
     "output_type": "stream",
     "text": [
      "113it [00:19,  5.95it/s]\n"
     ]
    },
    {
     "name": "stdout",
     "output_type": "stream",
     "text": [
      "learning rate:0.001\n",
      "epoch: 7/100, Average loss (Train):253.24628, Average loss (test):264.70612, acc(train):61.7472, acc(test):59.3898\n",
      "Epoch:7\n"
     ]
    },
    {
     "name": "stderr",
     "output_type": "stream",
     "text": [
      "113it [00:17,  6.30it/s]\n"
     ]
    },
    {
     "name": "stdout",
     "output_type": "stream",
     "text": [
      "learning rate:0.001\n",
      "epoch: 8/100, Average loss (Train):261.68610, Average loss (test):288.42593, acc(train):61.6462, acc(test):58.6096\n",
      "Epoch:8\n"
     ]
    },
    {
     "name": "stderr",
     "output_type": "stream",
     "text": [
      "113it [00:16,  6.68it/s]\n"
     ]
    },
    {
     "name": "stdout",
     "output_type": "stream",
     "text": [
      "learning rate:0.001\n",
      "epoch: 9/100, Average loss (Train):251.19478, Average loss (test):277.24713, acc(train):62.3986, acc(test):59.5988\n",
      "Epoch:9\n"
     ]
    },
    {
     "name": "stderr",
     "output_type": "stream",
     "text": [
      "113it [00:16,  6.87it/s]\n"
     ]
    },
    {
     "name": "stdout",
     "output_type": "stream",
     "text": [
      "learning rate:0.001\n",
      "epoch: 10/100, Average loss (Train):259.40369, Average loss (test):292.39859, acc(train):62.7120, acc(test):60.0306\n",
      "Epoch:10\n"
     ]
    },
    {
     "name": "stderr",
     "output_type": "stream",
     "text": [
      "113it [00:15,  7.16it/s]\n"
     ]
    },
    {
     "name": "stdout",
     "output_type": "stream",
     "text": [
      "learning rate:0.001\n",
      "epoch: 11/100, Average loss (Train):244.95169, Average loss (test):296.33749, acc(train):63.9381, acc(test):59.5848\n",
      "Epoch:11\n"
     ]
    },
    {
     "name": "stderr",
     "output_type": "stream",
     "text": [
      "113it [00:15,  7.09it/s]\n"
     ]
    },
    {
     "name": "stdout",
     "output_type": "stream",
     "text": [
      "learning rate:0.001\n",
      "epoch: 12/100, Average loss (Train):222.28238, Average loss (test):282.52155, acc(train):67.5746, acc(test):60.9919\n",
      "Epoch:12\n"
     ]
    },
    {
     "name": "stderr",
     "output_type": "stream",
     "text": [
      "113it [00:15,  7.07it/s]\n"
     ]
    },
    {
     "name": "stdout",
     "output_type": "stream",
     "text": [
      "learning rate:0.001\n",
      "epoch: 13/100, Average loss (Train):210.90573, Average loss (test):281.34692, acc(train):69.2849, acc(test):62.0368\n",
      "Epoch:13\n"
     ]
    },
    {
     "name": "stderr",
     "output_type": "stream",
     "text": [
      "113it [00:15,  7.13it/s]\n"
     ]
    },
    {
     "name": "stdout",
     "output_type": "stream",
     "text": [
      "learning rate:0.001\n",
      "epoch: 14/100, Average loss (Train):200.60429, Average loss (test):283.71896, acc(train):70.9847, acc(test):62.3015\n",
      "Epoch:14\n"
     ]
    },
    {
     "name": "stderr",
     "output_type": "stream",
     "text": [
      "113it [00:18,  6.05it/s]\n"
     ]
    },
    {
     "name": "stdout",
     "output_type": "stream",
     "text": [
      "learning rate:0.001\n",
      "epoch: 15/100, Average loss (Train):245.94086, Average loss (test):383.86740, acc(train):64.7637, acc(test):57.8991\n",
      "Epoch:15\n"
     ]
    },
    {
     "name": "stderr",
     "output_type": "stream",
     "text": [
      "113it [00:15,  7.11it/s]\n"
     ]
    },
    {
     "name": "stdout",
     "output_type": "stream",
     "text": [
      "learning rate:0.001\n",
      "epoch: 16/100, Average loss (Train):188.63155, Average loss (test):298.40976, acc(train):72.4929, acc(test):63.9872\n",
      "Epoch:16\n"
     ]
    },
    {
     "name": "stderr",
     "output_type": "stream",
     "text": [
      "113it [00:15,  7.12it/s]\n"
     ]
    },
    {
     "name": "stdout",
     "output_type": "stream",
     "text": [
      "learning rate:0.001\n",
      "epoch: 17/100, Average loss (Train):205.75960, Average loss (test):304.68765, acc(train):70.4030, acc(test):61.5770\n",
      "Epoch:17\n"
     ]
    },
    {
     "name": "stderr",
     "output_type": "stream",
     "text": [
      "113it [00:18,  6.16it/s]\n"
     ]
    },
    {
     "name": "stdout",
     "output_type": "stream",
     "text": [
      "learning rate:0.001\n",
      "epoch: 18/100, Average loss (Train):198.11014, Average loss (test):342.31177, acc(train):71.5002, acc(test):60.6994\n",
      "Epoch:18\n"
     ]
    },
    {
     "name": "stderr",
     "output_type": "stream",
     "text": [
      "113it [00:15,  7.08it/s]\n"
     ]
    },
    {
     "name": "stdout",
     "output_type": "stream",
     "text": [
      "learning rate:0.001\n",
      "epoch: 19/100, Average loss (Train):187.54051, Average loss (test):349.05917, acc(train):73.3254, acc(test):61.8835\n",
      "Epoch:19\n"
     ]
    },
    {
     "name": "stderr",
     "output_type": "stream",
     "text": [
      "113it [00:15,  7.18it/s]\n"
     ]
    },
    {
     "name": "stdout",
     "output_type": "stream",
     "text": [
      "learning rate:0.0001\n",
      "epoch: 20/100, Average loss (Train):145.57727, Average loss (test):310.19720, acc(train):79.2400, acc(test):65.1992\n",
      "Epoch:20\n"
     ]
    },
    {
     "name": "stderr",
     "output_type": "stream",
     "text": [
      "113it [00:15,  7.10it/s]\n"
     ]
    },
    {
     "name": "stdout",
     "output_type": "stream",
     "text": [
      "learning rate:0.0001\n",
      "epoch: 21/100, Average loss (Train):141.07690, Average loss (test):326.33911, acc(train):79.5221, acc(test):65.6450\n",
      "Epoch:21\n"
     ]
    },
    {
     "name": "stderr",
     "output_type": "stream",
     "text": [
      "113it [00:15,  7.14it/s]\n"
     ]
    },
    {
     "name": "stdout",
     "output_type": "stream",
     "text": [
      "learning rate:0.0001\n",
      "epoch: 22/100, Average loss (Train):136.48502, Average loss (test):345.15125, acc(train):80.1735, acc(test):65.5893\n",
      "Epoch:22\n"
     ]
    },
    {
     "name": "stderr",
     "output_type": "stream",
     "text": [
      "113it [00:15,  7.13it/s]\n"
     ]
    },
    {
     "name": "stdout",
     "output_type": "stream",
     "text": [
      "learning rate:0.0001\n",
      "epoch: 23/100, Average loss (Train):133.05443, Average loss (test):373.99622, acc(train):81.0338, acc(test):65.1435\n",
      "Epoch:23\n"
     ]
    },
    {
     "name": "stderr",
     "output_type": "stream",
     "text": [
      "113it [00:15,  7.07it/s]\n"
     ]
    },
    {
     "name": "stdout",
     "output_type": "stream",
     "text": [
      "learning rate:0.0001\n",
      "epoch: 24/100, Average loss (Train):130.98206, Average loss (test):376.04410, acc(train):80.9502, acc(test):65.4778\n",
      "Epoch:24\n"
     ]
    },
    {
     "name": "stderr",
     "output_type": "stream",
     "text": [
      "113it [00:15,  7.15it/s]\n"
     ]
    },
    {
     "name": "stdout",
     "output_type": "stream",
     "text": [
      "learning rate:0.0001\n",
      "epoch: 25/100, Average loss (Train):130.38097, Average loss (test):399.80106, acc(train):81.0756, acc(test):65.5893\n",
      "Epoch:25\n"
     ]
    },
    {
     "name": "stderr",
     "output_type": "stream",
     "text": [
      "113it [00:15,  7.18it/s]\n"
     ]
    },
    {
     "name": "stdout",
     "output_type": "stream",
     "text": [
      "learning rate:0.0001\n",
      "epoch: 26/100, Average loss (Train):129.51764, Average loss (test):414.96814, acc(train):81.3055, acc(test):65.6868\n",
      "Epoch:26\n"
     ]
    },
    {
     "name": "stderr",
     "output_type": "stream",
     "text": [
      "113it [00:16,  7.03it/s]\n"
     ]
    },
    {
     "name": "stdout",
     "output_type": "stream",
     "text": [
      "learning rate:0.0001\n",
      "epoch: 27/100, Average loss (Train):124.59223, Average loss (test):429.81308, acc(train):81.7897, acc(test):65.6172\n",
      "Epoch:27\n"
     ]
    },
    {
     "name": "stderr",
     "output_type": "stream",
     "text": [
      "113it [00:16,  6.76it/s]\n"
     ]
    },
    {
     "name": "stdout",
     "output_type": "stream",
     "text": [
      "learning rate:0.0001\n",
      "epoch: 28/100, Average loss (Train):127.39693, Average loss (test):432.39996, acc(train):81.3264, acc(test):65.2410\n",
      "Epoch:28\n"
     ]
    },
    {
     "name": "stderr",
     "output_type": "stream",
     "text": [
      "113it [00:17,  6.45it/s]\n"
     ]
    },
    {
     "name": "stdout",
     "output_type": "stream",
     "text": [
      "learning rate:0.0001\n",
      "epoch: 29/100, Average loss (Train):125.25613, Average loss (test):471.90005, acc(train):81.6713, acc(test):65.4082\n",
      "Epoch:29\n"
     ]
    },
    {
     "name": "stderr",
     "output_type": "stream",
     "text": [
      "113it [00:16,  6.76it/s]\n"
     ]
    },
    {
     "name": "stdout",
     "output_type": "stream",
     "text": [
      "learning rate:0.0001\n",
      "epoch: 30/100, Average loss (Train):124.29449, Average loss (test):464.79001, acc(train):81.9360, acc(test):65.6172\n",
      "Epoch:30\n"
     ]
    },
    {
     "name": "stderr",
     "output_type": "stream",
     "text": [
      "113it [00:16,  6.97it/s]\n"
     ]
    },
    {
     "name": "stdout",
     "output_type": "stream",
     "text": [
      "learning rate:0.0001\n",
      "epoch: 31/100, Average loss (Train):124.28600, Average loss (test):491.72113, acc(train):81.7026, acc(test):65.0878\n",
      "Epoch:31\n"
     ]
    },
    {
     "name": "stderr",
     "output_type": "stream",
     "text": [
      "113it [00:16,  7.04it/s]\n"
     ]
    },
    {
     "name": "stdout",
     "output_type": "stream",
     "text": [
      "learning rate:0.0001\n",
      "epoch: 32/100, Average loss (Train):121.71126, Average loss (test):485.60489, acc(train):82.2251, acc(test):65.9654\n",
      "Epoch:32\n"
     ]
    },
    {
     "name": "stderr",
     "output_type": "stream",
     "text": [
      "113it [00:16,  7.02it/s]\n"
     ]
    },
    {
     "name": "stdout",
     "output_type": "stream",
     "text": [
      "learning rate:0.0001\n",
      "epoch: 33/100, Average loss (Train):121.99623, Average loss (test):533.43408, acc(train):82.3609, acc(test):65.4221\n",
      "Epoch:33\n"
     ]
    },
    {
     "name": "stderr",
     "output_type": "stream",
     "text": [
      "113it [00:15,  7.07it/s]\n"
     ]
    },
    {
     "name": "stdout",
     "output_type": "stream",
     "text": [
      "learning rate:0.0001\n",
      "epoch: 34/100, Average loss (Train):122.54869, Average loss (test):505.45966, acc(train):82.1763, acc(test):65.4778\n",
      "Epoch:34\n"
     ]
    },
    {
     "name": "stderr",
     "output_type": "stream",
     "text": [
      "113it [00:15,  7.12it/s]\n"
     ]
    },
    {
     "name": "stdout",
     "output_type": "stream",
     "text": [
      "learning rate:0.0001\n",
      "epoch: 35/100, Average loss (Train):120.18603, Average loss (test):532.13336, acc(train):82.3331, acc(test):65.9237\n",
      "Epoch:35\n"
     ]
    },
    {
     "name": "stderr",
     "output_type": "stream",
     "text": [
      "113it [00:17,  6.32it/s]\n"
     ]
    },
    {
     "name": "stdout",
     "output_type": "stream",
     "text": [
      "learning rate:0.0001\n",
      "epoch: 36/100, Average loss (Train):121.10464, Average loss (test):504.98532, acc(train):82.3400, acc(test):66.0351\n",
      "Epoch:36\n"
     ]
    },
    {
     "name": "stderr",
     "output_type": "stream",
     "text": [
      "113it [00:16,  6.77it/s]\n"
     ]
    },
    {
     "name": "stdout",
     "output_type": "stream",
     "text": [
      "learning rate:0.0001\n",
      "epoch: 37/100, Average loss (Train):118.40242, Average loss (test):542.60852, acc(train):82.4480, acc(test):65.7147\n",
      "Epoch:37\n"
     ]
    },
    {
     "name": "stderr",
     "output_type": "stream",
     "text": [
      "113it [00:16,  6.76it/s]\n"
     ]
    },
    {
     "name": "stdout",
     "output_type": "stream",
     "text": [
      "learning rate:0.0001\n",
      "epoch: 38/100, Average loss (Train):120.53672, Average loss (test):512.81793, acc(train):82.3331, acc(test):66.3695\n",
      "Epoch:38\n"
     ]
    },
    {
     "name": "stderr",
     "output_type": "stream",
     "text": [
      "113it [00:17,  6.59it/s]\n"
     ]
    },
    {
     "name": "stdout",
     "output_type": "stream",
     "text": [
      "learning rate:0.0001\n",
      "epoch: 39/100, Average loss (Train):118.89519, Average loss (test):591.40741, acc(train):82.3400, acc(test):65.4500\n",
      "Epoch:39\n"
     ]
    },
    {
     "name": "stderr",
     "output_type": "stream",
     "text": [
      "113it [00:18,  6.22it/s]\n"
     ]
    },
    {
     "name": "stdout",
     "output_type": "stream",
     "text": [
      "learning rate:1e-05\n",
      "epoch: 40/100, Average loss (Train):118.53516, Average loss (test):565.37164, acc(train):82.5560, acc(test):66.0351\n",
      "Epoch:40\n"
     ]
    },
    {
     "name": "stderr",
     "output_type": "stream",
     "text": [
      "113it [00:15,  7.11it/s]\n"
     ]
    },
    {
     "name": "stdout",
     "output_type": "stream",
     "text": [
      "learning rate:1e-05\n",
      "epoch: 41/100, Average loss (Train):117.22703, Average loss (test):550.50824, acc(train):82.6640, acc(test):65.8540\n",
      "Epoch:41\n"
     ]
    },
    {
     "name": "stderr",
     "output_type": "stream",
     "text": [
      "113it [00:15,  7.15it/s]\n"
     ]
    },
    {
     "name": "stdout",
     "output_type": "stream",
     "text": [
      "learning rate:1e-05\n",
      "epoch: 42/100, Average loss (Train):115.74234, Average loss (test):565.22351, acc(train):82.9775, acc(test):66.0072\n",
      "Epoch:42\n"
     ]
    },
    {
     "name": "stderr",
     "output_type": "stream",
     "text": [
      "113it [00:15,  7.14it/s]\n"
     ]
    },
    {
     "name": "stdout",
     "output_type": "stream",
     "text": [
      "learning rate:1e-05\n",
      "epoch: 43/100, Average loss (Train):117.17841, Average loss (test):563.34113, acc(train):82.7511, acc(test):66.0769\n",
      "Epoch:43\n"
     ]
    },
    {
     "name": "stderr",
     "output_type": "stream",
     "text": [
      "113it [00:15,  7.15it/s]\n"
     ]
    },
    {
     "name": "stdout",
     "output_type": "stream",
     "text": [
      "learning rate:1e-05\n",
      "epoch: 44/100, Average loss (Train):114.97227, Average loss (test):574.13995, acc(train):83.1516, acc(test):66.0490\n",
      "Epoch:44\n"
     ]
    },
    {
     "name": "stderr",
     "output_type": "stream",
     "text": [
      "113it [00:16,  6.79it/s]\n"
     ]
    },
    {
     "name": "stdout",
     "output_type": "stream",
     "text": [
      "learning rate:1e-05\n",
      "epoch: 45/100, Average loss (Train):116.21825, Average loss (test):554.79132, acc(train):82.8973, acc(test):66.2719\n",
      "Epoch:45\n"
     ]
    },
    {
     "name": "stderr",
     "output_type": "stream",
     "text": [
      "113it [00:17,  6.60it/s]\n"
     ]
    },
    {
     "name": "stdout",
     "output_type": "stream",
     "text": [
      "learning rate:1e-05\n",
      "epoch: 46/100, Average loss (Train):115.10781, Average loss (test):542.19409, acc(train):83.2039, acc(test):66.1605\n",
      "Epoch:46\n"
     ]
    },
    {
     "name": "stderr",
     "output_type": "stream",
     "text": [
      "113it [00:15,  7.08it/s]\n"
     ]
    },
    {
     "name": "stdout",
     "output_type": "stream",
     "text": [
      "learning rate:1e-05\n",
      "epoch: 47/100, Average loss (Train):117.65331, Average loss (test):556.29535, acc(train):82.5769, acc(test):65.9794\n",
      "Epoch:47\n"
     ]
    },
    {
     "name": "stderr",
     "output_type": "stream",
     "text": [
      "113it [00:16,  7.06it/s]\n"
     ]
    },
    {
     "name": "stdout",
     "output_type": "stream",
     "text": [
      "learning rate:1e-05\n",
      "epoch: 48/100, Average loss (Train):116.36037, Average loss (test):590.30768, acc(train):82.8904, acc(test):65.8401\n",
      "Epoch:48\n"
     ]
    },
    {
     "name": "stderr",
     "output_type": "stream",
     "text": [
      "113it [00:15,  7.10it/s]\n"
     ]
    },
    {
     "name": "stdout",
     "output_type": "stream",
     "text": [
      "learning rate:1e-05\n",
      "epoch: 49/100, Average loss (Train):117.30517, Average loss (test):561.50787, acc(train):82.6291, acc(test):66.3695\n",
      "Epoch:49\n"
     ]
    },
    {
     "name": "stderr",
     "output_type": "stream",
     "text": [
      "113it [00:15,  7.07it/s]\n"
     ]
    },
    {
     "name": "stdout",
     "output_type": "stream",
     "text": [
      "learning rate:1e-05\n",
      "epoch: 50/100, Average loss (Train):115.22947, Average loss (test):557.64038, acc(train):83.0889, acc(test):66.2998\n",
      "Epoch:50\n"
     ]
    },
    {
     "name": "stderr",
     "output_type": "stream",
     "text": [
      "113it [00:16,  6.87it/s]\n"
     ]
    },
    {
     "name": "stdout",
     "output_type": "stream",
     "text": [
      "learning rate:1e-05\n",
      "epoch: 51/100, Average loss (Train):115.05360, Average loss (test):604.03308, acc(train):83.2108, acc(test):65.9376\n",
      "Epoch:51\n"
     ]
    },
    {
     "name": "stderr",
     "output_type": "stream",
     "text": [
      "113it [00:16,  6.68it/s]\n"
     ]
    },
    {
     "name": "stdout",
     "output_type": "stream",
     "text": [
      "learning rate:1e-05\n",
      "epoch: 52/100, Average loss (Train):116.34243, Average loss (test):571.24042, acc(train):82.7302, acc(test):66.1048\n",
      "Epoch:52\n"
     ]
    },
    {
     "name": "stderr",
     "output_type": "stream",
     "text": [
      "113it [00:16,  6.71it/s]\n"
     ]
    },
    {
     "name": "stdout",
     "output_type": "stream",
     "text": [
      "learning rate:1e-05\n",
      "epoch: 53/100, Average loss (Train):115.07247, Average loss (test):571.33014, acc(train):82.8486, acc(test):65.9515\n",
      "Epoch:53\n"
     ]
    },
    {
     "name": "stderr",
     "output_type": "stream",
     "text": [
      "113it [00:16,  7.02it/s]\n"
     ]
    },
    {
     "name": "stdout",
     "output_type": "stream",
     "text": [
      "learning rate:1e-05\n",
      "epoch: 54/100, Average loss (Train):118.61002, Average loss (test):585.57611, acc(train):82.6117, acc(test):65.8540\n",
      "Epoch:54\n"
     ]
    },
    {
     "name": "stderr",
     "output_type": "stream",
     "text": [
      "113it [00:15,  7.12it/s]\n"
     ]
    },
    {
     "name": "stdout",
     "output_type": "stream",
     "text": [
      "learning rate:1e-05\n",
      "epoch: 55/100, Average loss (Train):114.69373, Average loss (test):563.65118, acc(train):83.1516, acc(test):66.0908\n",
      "Epoch:55\n"
     ]
    },
    {
     "name": "stderr",
     "output_type": "stream",
     "text": [
      "113it [00:16,  7.02it/s]\n"
     ]
    },
    {
     "name": "stdout",
     "output_type": "stream",
     "text": [
      "learning rate:1e-05\n",
      "epoch: 56/100, Average loss (Train):116.08219, Average loss (test):582.15814, acc(train):82.7058, acc(test):65.9654\n",
      "Epoch:56\n"
     ]
    },
    {
     "name": "stderr",
     "output_type": "stream",
     "text": [
      "113it [00:15,  7.07it/s]\n"
     ]
    },
    {
     "name": "stdout",
     "output_type": "stream",
     "text": [
      "learning rate:1e-05\n",
      "epoch: 57/100, Average loss (Train):112.97029, Average loss (test):585.60931, acc(train):83.1690, acc(test):65.7983\n",
      "Epoch:57\n"
     ]
    },
    {
     "name": "stderr",
     "output_type": "stream",
     "text": [
      "113it [00:15,  7.07it/s]\n"
     ]
    },
    {
     "name": "stdout",
     "output_type": "stream",
     "text": [
      "learning rate:1e-05\n",
      "epoch: 58/100, Average loss (Train):115.04545, Average loss (test):582.03534, acc(train):83.2213, acc(test):66.1884\n",
      "Epoch:58\n"
     ]
    },
    {
     "name": "stderr",
     "output_type": "stream",
     "text": [
      "113it [00:15,  7.09it/s]\n"
     ]
    },
    {
     "name": "stdout",
     "output_type": "stream",
     "text": [
      "learning rate:1e-05\n",
      "epoch: 59/100, Average loss (Train):116.15870, Average loss (test):579.26740, acc(train):82.8277, acc(test):66.1187\n",
      "Epoch:59\n"
     ]
    },
    {
     "name": "stderr",
     "output_type": "stream",
     "text": [
      "113it [00:16,  7.02it/s]\n"
     ]
    },
    {
     "name": "stdout",
     "output_type": "stream",
     "text": [
      "learning rate:1.0000000000000002e-06\n",
      "epoch: 60/100, Average loss (Train):116.48728, Average loss (test):596.10968, acc(train):82.9043, acc(test):65.8540\n",
      "Epoch:60\n"
     ]
    },
    {
     "name": "stderr",
     "output_type": "stream",
     "text": [
      "113it [00:16,  6.74it/s]\n"
     ]
    },
    {
     "name": "stdout",
     "output_type": "stream",
     "text": [
      "learning rate:1.0000000000000002e-06\n",
      "epoch: 61/100, Average loss (Train):114.16609, Average loss (test):602.66254, acc(train):83.0889, acc(test):65.9515\n",
      "Epoch:61\n"
     ]
    },
    {
     "name": "stderr",
     "output_type": "stream",
     "text": [
      "113it [00:17,  6.50it/s]\n"
     ]
    },
    {
     "name": "stdout",
     "output_type": "stream",
     "text": [
      "learning rate:1.0000000000000002e-06\n",
      "epoch: 62/100, Average loss (Train):115.08892, Average loss (test):581.64166, acc(train):83.1133, acc(test):65.9376\n",
      "Epoch:62\n"
     ]
    },
    {
     "name": "stderr",
     "output_type": "stream",
     "text": [
      "113it [00:16,  6.93it/s]\n"
     ]
    },
    {
     "name": "stdout",
     "output_type": "stream",
     "text": [
      "learning rate:1.0000000000000002e-06\n",
      "epoch: 63/100, Average loss (Train):116.68639, Average loss (test):580.50690, acc(train):82.7511, acc(test):65.9515\n",
      "Epoch:63\n"
     ]
    },
    {
     "name": "stderr",
     "output_type": "stream",
     "text": [
      "113it [00:16,  7.02it/s]\n"
     ]
    },
    {
     "name": "stdout",
     "output_type": "stream",
     "text": [
      "learning rate:1.0000000000000002e-06\n",
      "epoch: 64/100, Average loss (Train):114.43617, Average loss (test):585.95447, acc(train):83.1551, acc(test):65.9654\n",
      "Epoch:64\n"
     ]
    },
    {
     "name": "stderr",
     "output_type": "stream",
     "text": [
      "113it [00:16,  7.04it/s]\n"
     ]
    },
    {
     "name": "stdout",
     "output_type": "stream",
     "text": [
      "learning rate:1.0000000000000002e-06\n",
      "epoch: 65/100, Average loss (Train):113.78348, Average loss (test):596.50439, acc(train):83.0994, acc(test):66.0212\n",
      "Epoch:65\n"
     ]
    },
    {
     "name": "stderr",
     "output_type": "stream",
     "text": [
      "113it [00:16,  7.05it/s]\n"
     ]
    },
    {
     "name": "stdout",
     "output_type": "stream",
     "text": [
      "learning rate:1.0000000000000002e-06\n",
      "epoch: 66/100, Average loss (Train):115.94381, Average loss (test):578.78241, acc(train):82.9426, acc(test):66.0769\n",
      "Epoch:66\n"
     ]
    },
    {
     "name": "stderr",
     "output_type": "stream",
     "text": [
      "113it [00:16,  6.74it/s]\n"
     ]
    },
    {
     "name": "stdout",
     "output_type": "stream",
     "text": [
      "learning rate:1.0000000000000002e-06\n",
      "epoch: 67/100, Average loss (Train):115.38417, Average loss (test):587.32440, acc(train):83.1447, acc(test):66.0769\n",
      "Epoch:67\n"
     ]
    },
    {
     "name": "stderr",
     "output_type": "stream",
     "text": [
      "113it [00:15,  7.07it/s]\n"
     ]
    },
    {
     "name": "stdout",
     "output_type": "stream",
     "text": [
      "learning rate:1.0000000000000002e-06\n",
      "epoch: 68/100, Average loss (Train):115.01213, Average loss (test):571.02240, acc(train):83.0959, acc(test):66.2023\n",
      "Epoch:68\n"
     ]
    },
    {
     "name": "stderr",
     "output_type": "stream",
     "text": [
      "113it [00:16,  6.83it/s]\n"
     ]
    },
    {
     "name": "stdout",
     "output_type": "stream",
     "text": [
      "learning rate:1.0000000000000002e-06\n",
      "epoch: 69/100, Average loss (Train):114.43253, Average loss (test):577.14142, acc(train):83.1272, acc(test):66.2580\n",
      "Epoch:69\n"
     ]
    },
    {
     "name": "stderr",
     "output_type": "stream",
     "text": [
      "113it [00:15,  7.07it/s]\n"
     ]
    },
    {
     "name": "stdout",
     "output_type": "stream",
     "text": [
      "learning rate:1.0000000000000002e-06\n",
      "epoch: 70/100, Average loss (Train):115.49046, Average loss (test):600.53998, acc(train):82.8799, acc(test):65.9933\n",
      "Epoch:70\n"
     ]
    },
    {
     "name": "stderr",
     "output_type": "stream",
     "text": [
      "113it [00:27,  4.13it/s]\n"
     ]
    },
    {
     "name": "stdout",
     "output_type": "stream",
     "text": [
      "learning rate:1.0000000000000002e-06\n",
      "epoch: 71/100, Average loss (Train):114.51458, Average loss (test):582.16217, acc(train):83.2039, acc(test):66.2162\n",
      "Epoch:71\n"
     ]
    },
    {
     "name": "stderr",
     "output_type": "stream",
     "text": [
      "113it [00:16,  7.04it/s]\n"
     ]
    },
    {
     "name": "stdout",
     "output_type": "stream",
     "text": [
      "learning rate:1.0000000000000002e-06\n",
      "epoch: 72/100, Average loss (Train):114.61897, Average loss (test):580.46686, acc(train):82.8869, acc(test):66.1466\n",
      "Epoch:72\n"
     ]
    },
    {
     "name": "stderr",
     "output_type": "stream",
     "text": [
      "113it [00:15,  7.37it/s]\n"
     ]
    },
    {
     "name": "stdout",
     "output_type": "stream",
     "text": [
      "learning rate:1.0000000000000002e-06\n",
      "epoch: 73/100, Average loss (Train):113.49134, Average loss (test):583.60577, acc(train):82.9949, acc(test):66.0072\n",
      "Epoch:73\n"
     ]
    },
    {
     "name": "stderr",
     "output_type": "stream",
     "text": [
      "113it [00:15,  7.21it/s]\n"
     ]
    },
    {
     "name": "stdout",
     "output_type": "stream",
     "text": [
      "learning rate:1.0000000000000002e-06\n",
      "epoch: 74/100, Average loss (Train):114.32944, Average loss (test):591.53607, acc(train):83.0018, acc(test):66.0908\n",
      "Epoch:74\n"
     ]
    },
    {
     "name": "stderr",
     "output_type": "stream",
     "text": [
      "113it [00:15,  7.38it/s]\n"
     ]
    },
    {
     "name": "stdout",
     "output_type": "stream",
     "text": [
      "learning rate:1.0000000000000002e-06\n",
      "epoch: 75/100, Average loss (Train):116.19964, Average loss (test):590.50391, acc(train):82.5281, acc(test):65.9933\n",
      "Epoch:75\n"
     ]
    },
    {
     "name": "stderr",
     "output_type": "stream",
     "text": [
      "113it [00:15,  7.37it/s]\n"
     ]
    },
    {
     "name": "stdout",
     "output_type": "stream",
     "text": [
      "learning rate:1.0000000000000002e-06\n",
      "epoch: 76/100, Average loss (Train):113.42873, Average loss (test):583.15881, acc(train):83.3711, acc(test):66.0072\n",
      "Epoch:76\n"
     ]
    },
    {
     "name": "stderr",
     "output_type": "stream",
     "text": [
      "113it [00:15,  7.37it/s]\n"
     ]
    },
    {
     "name": "stdout",
     "output_type": "stream",
     "text": [
      "learning rate:1.0000000000000002e-06\n",
      "epoch: 77/100, Average loss (Train):113.49094, Average loss (test):599.67084, acc(train):83.2666, acc(test):66.0908\n",
      "Epoch:77\n"
     ]
    },
    {
     "name": "stderr",
     "output_type": "stream",
     "text": [
      "113it [00:15,  7.38it/s]\n"
     ]
    },
    {
     "name": "stdout",
     "output_type": "stream",
     "text": [
      "learning rate:1.0000000000000002e-06\n",
      "epoch: 78/100, Average loss (Train):114.75987, Average loss (test):591.22528, acc(train):83.1098, acc(test):66.0351\n",
      "Epoch:78\n"
     ]
    },
    {
     "name": "stderr",
     "output_type": "stream",
     "text": [
      "113it [00:15,  7.21it/s]\n"
     ]
    },
    {
     "name": "stdout",
     "output_type": "stream",
     "text": [
      "learning rate:1.0000000000000002e-06\n",
      "epoch: 79/100, Average loss (Train):115.67496, Average loss (test):585.63531, acc(train):82.9740, acc(test):66.0072\n",
      "Epoch:79\n"
     ]
    },
    {
     "name": "stderr",
     "output_type": "stream",
     "text": [
      "113it [00:16,  6.88it/s]\n"
     ]
    },
    {
     "name": "stdout",
     "output_type": "stream",
     "text": [
      "learning rate:1.0000000000000002e-07\n",
      "epoch: 80/100, Average loss (Train):114.10035, Average loss (test):595.22577, acc(train):83.1203, acc(test):65.8819\n",
      "Epoch:80\n"
     ]
    },
    {
     "name": "stderr",
     "output_type": "stream",
     "text": [
      "113it [00:15,  7.30it/s]\n"
     ]
    },
    {
     "name": "stdout",
     "output_type": "stream",
     "text": [
      "learning rate:1.0000000000000002e-07\n",
      "epoch: 81/100, Average loss (Train):115.27876, Average loss (test):581.44019, acc(train):82.9322, acc(test):66.0072\n",
      "Epoch:81\n"
     ]
    },
    {
     "name": "stderr",
     "output_type": "stream",
     "text": [
      "113it [00:15,  7.22it/s]\n"
     ]
    },
    {
     "name": "stdout",
     "output_type": "stream",
     "text": [
      "learning rate:1.0000000000000002e-07\n",
      "epoch: 82/100, Average loss (Train):114.04662, Average loss (test):583.95587, acc(train):83.1586, acc(test):65.9933\n",
      "Epoch:82\n"
     ]
    },
    {
     "name": "stderr",
     "output_type": "stream",
     "text": [
      "113it [00:15,  7.24it/s]\n"
     ]
    },
    {
     "name": "stdout",
     "output_type": "stream",
     "text": [
      "learning rate:1.0000000000000002e-07\n",
      "epoch: 83/100, Average loss (Train):114.42720, Average loss (test):590.37952, acc(train):82.9391, acc(test):66.1466\n",
      "Epoch:83\n"
     ]
    },
    {
     "name": "stderr",
     "output_type": "stream",
     "text": [
      "113it [00:15,  7.35it/s]\n"
     ]
    },
    {
     "name": "stdout",
     "output_type": "stream",
     "text": [
      "learning rate:1.0000000000000002e-07\n",
      "epoch: 84/100, Average loss (Train):116.23099, Average loss (test):579.35217, acc(train):82.8556, acc(test):66.1326\n",
      "Epoch:84\n"
     ]
    },
    {
     "name": "stderr",
     "output_type": "stream",
     "text": [
      "113it [00:18,  6.07it/s]\n"
     ]
    },
    {
     "name": "stdout",
     "output_type": "stream",
     "text": [
      "learning rate:1.0000000000000002e-07\n",
      "epoch: 85/100, Average loss (Train):116.00461, Average loss (test):589.44403, acc(train):82.9844, acc(test):66.1466\n",
      "Epoch:85\n"
     ]
    },
    {
     "name": "stderr",
     "output_type": "stream",
     "text": [
      "113it [00:16,  6.68it/s]\n"
     ]
    },
    {
     "name": "stdout",
     "output_type": "stream",
     "text": [
      "learning rate:1.0000000000000002e-07\n",
      "epoch: 86/100, Average loss (Train):114.99780, Average loss (test):600.23755, acc(train):82.9322, acc(test):66.0908\n",
      "Epoch:86\n"
     ]
    },
    {
     "name": "stderr",
     "output_type": "stream",
     "text": [
      "113it [00:16,  6.89it/s]\n"
     ]
    },
    {
     "name": "stdout",
     "output_type": "stream",
     "text": [
      "learning rate:1.0000000000000002e-07\n",
      "epoch: 87/100, Average loss (Train):114.13778, Average loss (test):594.27399, acc(train):83.0750, acc(test):66.1744\n",
      "Epoch:87\n"
     ]
    },
    {
     "name": "stderr",
     "output_type": "stream",
     "text": [
      "113it [00:16,  7.03it/s]\n"
     ]
    },
    {
     "name": "stdout",
     "output_type": "stream",
     "text": [
      "learning rate:1.0000000000000002e-07\n",
      "epoch: 88/100, Average loss (Train):114.77937, Average loss (test):579.07111, acc(train):83.1342, acc(test):66.0769\n",
      "Epoch:88\n"
     ]
    },
    {
     "name": "stderr",
     "output_type": "stream",
     "text": [
      "113it [00:16,  7.02it/s]\n"
     ]
    },
    {
     "name": "stdout",
     "output_type": "stream",
     "text": [
      "learning rate:1.0000000000000002e-07\n",
      "epoch: 89/100, Average loss (Train):116.83453, Average loss (test):575.93219, acc(train):82.7232, acc(test):66.1744\n",
      "Epoch:89\n"
     ]
    },
    {
     "name": "stderr",
     "output_type": "stream",
     "text": [
      "113it [00:16,  6.89it/s]\n"
     ]
    },
    {
     "name": "stdout",
     "output_type": "stream",
     "text": [
      "learning rate:1.0000000000000002e-07\n",
      "epoch: 90/100, Average loss (Train):113.40202, Average loss (test):586.03375, acc(train):83.2631, acc(test):66.1326\n",
      "Epoch:90\n"
     ]
    },
    {
     "name": "stderr",
     "output_type": "stream",
     "text": [
      "113it [00:16,  6.80it/s]\n"
     ]
    },
    {
     "name": "stdout",
     "output_type": "stream",
     "text": [
      "learning rate:1.0000000000000002e-07\n",
      "epoch: 91/100, Average loss (Train):114.45963, Average loss (test):597.73035, acc(train):83.1656, acc(test):65.9097\n",
      "Epoch:91\n"
     ]
    },
    {
     "name": "stderr",
     "output_type": "stream",
     "text": [
      "113it [00:15,  7.07it/s]\n"
     ]
    },
    {
     "name": "stdout",
     "output_type": "stream",
     "text": [
      "learning rate:1.0000000000000002e-07\n",
      "epoch: 92/100, Average loss (Train):114.87306, Average loss (test):595.09052, acc(train):82.9844, acc(test):66.0072\n",
      "Epoch:92\n"
     ]
    },
    {
     "name": "stderr",
     "output_type": "stream",
     "text": [
      "113it [00:16,  6.72it/s]\n"
     ]
    },
    {
     "name": "stdout",
     "output_type": "stream",
     "text": [
      "learning rate:1.0000000000000002e-07\n",
      "epoch: 93/100, Average loss (Train):113.95000, Average loss (test):591.13684, acc(train):83.0785, acc(test):66.2580\n",
      "Epoch:93\n"
     ]
    },
    {
     "name": "stderr",
     "output_type": "stream",
     "text": [
      "113it [00:17,  6.60it/s]\n"
     ]
    },
    {
     "name": "stdout",
     "output_type": "stream",
     "text": [
      "learning rate:1.0000000000000002e-07\n",
      "epoch: 94/100, Average loss (Train):112.53453, Average loss (test):591.14691, acc(train):83.1133, acc(test):66.2998\n",
      "Epoch:94\n"
     ]
    },
    {
     "name": "stderr",
     "output_type": "stream",
     "text": [
      "113it [00:17,  6.57it/s]\n"
     ]
    },
    {
     "name": "stdout",
     "output_type": "stream",
     "text": [
      "learning rate:1.0000000000000002e-07\n",
      "epoch: 95/100, Average loss (Train):114.57938, Average loss (test):589.68854, acc(train):82.8695, acc(test):66.2162\n",
      "Epoch:95\n"
     ]
    },
    {
     "name": "stderr",
     "output_type": "stream",
     "text": [
      "113it [00:17,  6.57it/s]\n"
     ]
    },
    {
     "name": "stdout",
     "output_type": "stream",
     "text": [
      "learning rate:1.0000000000000002e-07\n",
      "epoch: 96/100, Average loss (Train):114.00671, Average loss (test):598.87903, acc(train):82.9809, acc(test):66.0351\n",
      "Epoch:96\n"
     ]
    },
    {
     "name": "stderr",
     "output_type": "stream",
     "text": [
      "113it [00:16,  7.03it/s]\n"
     ]
    },
    {
     "name": "stdout",
     "output_type": "stream",
     "text": [
      "learning rate:1.0000000000000002e-07\n",
      "epoch: 97/100, Average loss (Train):113.16698, Average loss (test):591.69299, acc(train):83.3432, acc(test):66.1187\n",
      "Epoch:97\n"
     ]
    },
    {
     "name": "stderr",
     "output_type": "stream",
     "text": [
      "113it [00:16,  7.05it/s]\n"
     ]
    },
    {
     "name": "stdout",
     "output_type": "stream",
     "text": [
      "learning rate:1.0000000000000002e-07\n",
      "epoch: 98/100, Average loss (Train):114.80632, Average loss (test):606.30444, acc(train):82.9879, acc(test):65.9654\n",
      "Epoch:98\n"
     ]
    },
    {
     "name": "stderr",
     "output_type": "stream",
     "text": [
      "113it [00:16,  7.03it/s]\n"
     ]
    },
    {
     "name": "stdout",
     "output_type": "stream",
     "text": [
      "learning rate:1.0000000000000002e-07\n",
      "epoch: 99/100, Average loss (Train):116.01365, Average loss (test):586.07788, acc(train):82.8486, acc(test):66.1187\n",
      "Epoch:99\n"
     ]
    },
    {
     "name": "stderr",
     "output_type": "stream",
     "text": [
      "113it [00:15,  7.09it/s]\n"
     ]
    },
    {
     "name": "stdout",
     "output_type": "stream",
     "text": [
      "learning rate:1.0000000000000002e-07\n",
      "epoch: 100/100, Average loss (Train):114.15658, Average loss (test):589.97906, acc(train):83.3049, acc(test):65.8958\n",
      "training done.\n",
      "Model saved.\n"
     ]
    }
   ],
   "source": [
    "from tqdm import tqdm\n",
    "\n",
    "def evalmodel(model, testloader, loss):\n",
    "    model.eval()\n",
    "    test_loss_cnn = 0\n",
    "    correct = 0\n",
    "    total = 0\n",
    "    with torch.no_grad():\n",
    "        for batch_idx, (data, target) in enumerate(testloader):\n",
    "            data, target = data.to(device), target.to(device)\n",
    "            output_cnn = model(data)\n",
    "            loss_cnn = loss(output_cnn,target)  \n",
    "            \n",
    "            test_loss_cnn += loss_cnn*len(target)\n",
    "            _, predicted = torch.max(output_cnn.data, 1)\n",
    "            total += target.size(0)\n",
    "            correct += (predicted == target).sum().item()\n",
    "        # the class with the highest energy is what we choose as prediction\n",
    "    test_loss_cnn /= len(testloader)\n",
    "    acc = 100 * correct / total\n",
    "    return test_loss_cnn, acc\n",
    "\n",
    "def train(model_cnn, loss, optimizer_cnn, scheduler):  \n",
    "    log_loss_train=[]\n",
    "    log_loss_test=[]\n",
    "    for epoch in range(total_epoch):\n",
    "        scheduler.step()\n",
    "        print('Epoch:{}'.format(epoch))\n",
    "        # train\n",
    "        model_cnn.train()\n",
    "        loss_train = 0\n",
    "        for batch_idx, (data, target) in tqdm(enumerate(dataloader_train)):\n",
    "            data, target = data.to(device), target.to(device)\n",
    "            optimizer_cnn.zero_grad()\n",
    "            output_cnn = model_cnn(data)\n",
    "            loss_cnn = loss(output_cnn,target)  \n",
    "            loss_cnn.backward()\n",
    "            optimizer_cnn.step()\n",
    "#             loss_train += loss_cnn*len(target)\n",
    "#         loss_train /= len(dataset_train)\n",
    "\n",
    "        # test\n",
    "        if epoch % 1 == 0:\n",
    "            train_loss, train_acc= evalmodel(model_cnn, dataloader_train, loss)\n",
    "            test_loss, test_acc= evalmodel(model_cnn, dataloader_test, loss)\n",
    "            log_loss_train.append(train_loss)\n",
    "            log_loss_test.append(test_loss)\n",
    "            print('learning rate:{}'.format(scheduler.get_last_lr()[0]))\n",
    "            print('epoch: {}/{}, Average loss (Train):{:.5f}, Average loss (test):{:.5f}, acc(train):{:.4f}, acc(test):{:.4f}'.format(\n",
    "                epoch+1, total_epoch, train_loss, test_loss, train_acc, test_acc))\n",
    "        \n",
    "    print('training done.')\n",
    "    return model_cnn, log_loss_train, log_loss_test\n",
    "# 步驟0. 是否使用CUDA \n",
    "# os.environ['CUDA_LAUNCH_BLOCKING'] = \"1\" \n",
    "use_cuda = 1\n",
    "device = torch.device(\"cuda\" if (torch.cuda.is_available() & use_cuda) else \"cpu\")\n",
    "print(device)\n",
    "##############\n",
    "\n",
    "total_epoch=100\n",
    "lr = 0.001\n",
    "batch_size=256\n",
    "num_workers=0\n",
    "\n",
    "# 步驟1. data loader處理 \n",
    "mytransform_woDA = transforms.Compose([\n",
    "            transforms.Resize((48,48)),\n",
    "            transforms.ToTensor()\n",
    "            ])\n",
    "\n",
    "transform_set = [ \n",
    "            transforms.RandomCrop(40, padding=4),\n",
    "            transforms.RandomRotation(degrees=(-15,15)),\n",
    "            transforms.RandomHorizontalFlip(p=0.5),\n",
    "]\n",
    "mytransform_wDA = transforms.Compose([\n",
    "                            transforms.RandomApply(transform_set, p=0.5),\n",
    "                            transforms.Resize((48,48)),\n",
    "                            transforms.ToTensor()])\n",
    "\n",
    "dataset_train = MyDataset(transforms=mytransform_wDA, isTrain=True)\n",
    "dataset_test = MyDataset(transforms=mytransform_woDA, isTrain=False)\n",
    "dataloader_train = torch.utils.data.DataLoader(dataset_train, batch_size=batch_size, num_workers=num_workers,shuffle=True)\n",
    "dataloader_test = torch.utils.data.DataLoader(dataset_test, batch_size=batch_size, num_workers=num_workers,shuffle=False)\n",
    "\n",
    "model_cnn = models.resnet18(pretrained=True)\n",
    "model_cnn.fc = nn.Linear(model_cnn.fc.in_features, 7)\n",
    "model_cnn = model_cnn.to(device)\n",
    "\n",
    "# 步驟3. loss function宣告\n",
    "loss = torch.nn.CrossEntropyLoss().to(device)\n",
    "# 步驟4. optimator宣告\n",
    "optimizer_cnn = optim.Adam(model_cnn.parameters(), lr=lr)\n",
    "scheduler = torch.optim.lr_scheduler.MultiStepLR(optimizer_cnn, milestones=[20,40,60,80], gamma=0.1)\n",
    "\n",
    "print('total training iter:{}'.format(len(dataloader_train)))\n",
    "print('total test iter:{}'.format(len(dataloader_test)))   \n",
    "\n",
    "# 步驟5. CNN模型開始訓練\n",
    "model_cnn, log_loss_train, log_loss_test = train(model_cnn, loss, optimizer_cnn, scheduler)\n",
    "checkpoint={}\n",
    "checkpoint['log_loss_train']=log_loss_train\n",
    "checkpoint['log_loss_test']=log_loss_test\n",
    "checkpoint['model_dict'] = model_cnn.state_dict()\n",
    "torch.save(checkpoint, 'Model_resnet18_withpretrain_fer2013_scheduler.pth')\n",
    "print('Model saved.')"
   ]
  },
  {
   "cell_type": "code",
   "execution_count": 6,
   "id": "a23429f3",
   "metadata": {},
   "outputs": [
    {
     "data": {
      "image/png": "[encoded data removed]",
      "text/plain": [
       "<Figure size 432x288 with 1 Axes>"
      ]
     },
     "metadata": {
      "needs_background": "light"
     },
     "output_type": "display_data"
    }
   ],
   "source": [
    "\n",
    "plt.plot([tmp.cpu().detach().numpy()  for tmp in log_loss_train])\n",
    "plt.plot([tmp.cpu().detach().numpy()  for tmp in log_loss_test])\n",
    "plt.title('Loss (Epoch)')\n",
    "plt.show()"
   ]
  },
  {
   "cell_type": "code",
   "execution_count": 7,
   "id": "fd5bafb3",
   "metadata": {},
   "outputs": [],
   "source": [
    "\n",
    "# mytransform = transforms.Compose([\n",
    "#         transforms.Resize((28,28)),\n",
    "#         transforms.ToTensor()\n",
    "#         ])\n",
    "# model_mlp.eval()  \n",
    "# model_cnn.eval() \n",
    "# #114_100.jpg#\n",
    "# #123_100.jpg#\n",
    "# #r_176_100.jpg#\n",
    "# image_names = ['./dataset/Example_fruit/Test/114_100.jpg',\n",
    "#               './dataset/Example_fruit/Test/123_100.jpg',\n",
    "#               './dataset/Example_fruit/Test/r_176_100.jpg']\n",
    "# for image_name in image_names:\n",
    "#     image = Image.open(image_name, mode='r')\n",
    "#     image = image.convert('RGB')\n",
    "#     plt.imshow(image)\n",
    "#     plt.show()\n",
    "    \n",
    "#     image = mytransform(image)\n",
    "#     print(image.shape)\n",
    "#     with torch.no_grad():\n",
    "#         output_mlp = model_mlp(torch.squeeze(image))\n",
    "#         output_cnn = model_cnn(torch.unsqueeze(image,dim=0).to(device))\n",
    "#     output_mlp= F.softmax(output_mlp)\n",
    "#     output_cnn= F.softmax(output_cnn)\n",
    "\n",
    "#     list_class = ['Apple','Banana','Watermelon']\n",
    "#     for i, tmp_out in enumerate(output_mlp[0]):\n",
    "#         print('MLP: probability for {}: {:.4f}%'.format(list_class[i], tmp_out*100))\n",
    "#     print('*'*50)    \n",
    "#     for i, tmp_out in enumerate(output_cnn[0]):\n",
    "#         print('CNN: probability for {}: {:.4f}%'.format(list_class[i], tmp_out*100))"
   ]
  },
  {
   "cell_type": "code",
   "execution_count": null,
   "id": "7dcde25e",
   "metadata": {},
   "outputs": [],
   "source": []
  },
  {
   "cell_type": "code",
   "execution_count": null,
   "id": "067e7e9b",
   "metadata": {},
   "outputs": [],
   "source": []
  },
  {
   "cell_type": "code",
   "execution_count": null,
   "id": "c431610f",
   "metadata": {},
   "outputs": [],
   "source": []
  }
 ],
 "metadata": {
  "kernelspec": {
   "display_name": "Python 3",
   "language": "python",
   "name": "python3"
  },
  "language_info": {
   "codemirror_mode": {
    "name": "ipython",
    "version": 3
   },
   "file_extension": ".py",
   "mimetype": "text/x-python",
   "name": "python",
   "nbconvert_exporter": "python",
   "pygments_lexer": "ipython3",
   "version": "3.7.9"
  }
 },
 "nbformat": 4,
 "nbformat_minor": 5
}
