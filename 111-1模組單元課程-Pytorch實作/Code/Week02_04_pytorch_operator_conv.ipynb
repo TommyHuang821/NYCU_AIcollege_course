{
 "cells": [
  {
   "cell_type": "markdown",
   "id": "protective-pearl",
   "metadata": {},
   "source": [
    "#  Conv.運作與參數生成\n",
    "## - Conv.的參數設定\n",
    "## - Conv.怎麼運算\n",
    "## - Conv.權重如何生成\n",
    "## - 權重那要用哪生成方式\n"
   ]
  },
  {
   "cell_type": "code",
   "execution_count": 1,
   "id": "undefined-effect",
   "metadata": {},
   "outputs": [
    {
     "name": "stderr",
     "output_type": "stream",
     "text": [
      "In C:\\Users\\user\\Anaconda3\\lib\\site-packages\\matplotlib\\mpl-data\\stylelib\\_classic_test.mplstyle: \n",
      "The text.latex.preview rcparam was deprecated in Matplotlib 3.3 and will be removed two minor releases later.\n",
      "In C:\\Users\\user\\Anaconda3\\lib\\site-packages\\matplotlib\\mpl-data\\stylelib\\_classic_test.mplstyle: \n",
      "The mathtext.fallback_to_cm rcparam was deprecated in Matplotlib 3.3 and will be removed two minor releases later.\n",
      "In C:\\Users\\user\\Anaconda3\\lib\\site-packages\\matplotlib\\mpl-data\\stylelib\\_classic_test.mplstyle: Support for setting the 'mathtext.fallback_to_cm' rcParam is deprecated since 3.3 and will be removed two minor releases later; use 'mathtext.fallback : 'cm' instead.\n",
      "In C:\\Users\\user\\Anaconda3\\lib\\site-packages\\matplotlib\\mpl-data\\stylelib\\_classic_test.mplstyle: \n",
      "The validate_bool_maybe_none function was deprecated in Matplotlib 3.3 and will be removed two minor releases later.\n",
      "In C:\\Users\\user\\Anaconda3\\lib\\site-packages\\matplotlib\\mpl-data\\stylelib\\_classic_test.mplstyle: \n",
      "The savefig.jpeg_quality rcparam was deprecated in Matplotlib 3.3 and will be removed two minor releases later.\n",
      "In C:\\Users\\user\\Anaconda3\\lib\\site-packages\\matplotlib\\mpl-data\\stylelib\\_classic_test.mplstyle: \n",
      "The keymap.all_axes rcparam was deprecated in Matplotlib 3.3 and will be removed two minor releases later.\n",
      "In C:\\Users\\user\\Anaconda3\\lib\\site-packages\\matplotlib\\mpl-data\\stylelib\\_classic_test.mplstyle: \n",
      "The animation.avconv_path rcparam was deprecated in Matplotlib 3.3 and will be removed two minor releases later.\n",
      "In C:\\Users\\user\\Anaconda3\\lib\\site-packages\\matplotlib\\mpl-data\\stylelib\\_classic_test.mplstyle: \n",
      "The animation.avconv_args rcparam was deprecated in Matplotlib 3.3 and will be removed two minor releases later.\n"
     ]
    }
   ],
   "source": [
    "import torch\n",
    "import torch.nn as nn\n",
    "import numpy as np\n",
    "import matplotlib.pyplot as plt"
   ]
  },
  {
   "cell_type": "markdown",
   "id": "wooden-brazilian",
   "metadata": {},
   "source": [
    "## Conv.的參數設定\n",
    "<font size=3>**範例1:bias有沒有設定的差異** </font>\n",
    "\n",
    "| Example   | # input channel | # output channel | kernel sizse | bias   |\n",
    "| :-----:   | :----:          | :----:           |   :----:     | :----: | \n",
    "| Example 1 |  1              |  2               |   3          |  0     |\n",
    "| Example 2 |  1              |  2               |   3          |  1     |\n"
   ]
  },
  {
   "cell_type": "code",
   "execution_count": 2,
   "id": "moral-posting",
   "metadata": {},
   "outputs": [
    {
     "name": "stdout",
     "output_type": "stream",
     "text": [
      "weight of conv layer:\n",
      "Parameter containing:\n",
      "tensor([[[[-0.0955,  0.2040,  0.1964],\n",
      "          [-0.0122, -0.0150,  0.0365],\n",
      "          [-0.0105,  0.0182,  0.2146]]],\n",
      "\n",
      "\n",
      "        [[[-0.2237,  0.0800, -0.1930],\n",
      "          [-0.2846,  0.0219, -0.0950],\n",
      "          [ 0.2534, -0.2277,  0.1908]]]], requires_grad=True)\n",
      "bias of conv layer:\n",
      "Parameter containing:\n",
      "tensor([-0.1771,  0.0620], requires_grad=True)\n"
     ]
    }
   ],
   "source": [
    "conv = nn.Conv2d(in_channels=1, out_channels=2, kernel_size=3, stride=1)\n",
    "print('weight of conv layer:\\n{}'.format(conv.weight))\n",
    "print('bias of conv layer:\\n{}'.format(conv.bias))"
   ]
  },
  {
   "cell_type": "code",
   "execution_count": 3,
   "id": "broad-development",
   "metadata": {},
   "outputs": [
    {
     "name": "stdout",
     "output_type": "stream",
     "text": [
      "weight of conv layer:\n",
      "Parameter containing:\n",
      "tensor([[[[ 0.0036,  0.0867,  0.2280],\n",
      "          [-0.0733,  0.0442, -0.0924],\n",
      "          [ 0.1109, -0.0242,  0.0504]]],\n",
      "\n",
      "\n",
      "        [[[ 0.0676, -0.1874,  0.1943],\n",
      "          [-0.1494, -0.3223, -0.1747],\n",
      "          [ 0.2618, -0.3333,  0.3122]]]], requires_grad=True)\n",
      "bias of conv layer:\n",
      "None\n"
     ]
    }
   ],
   "source": [
    "conv = nn.Conv2d(in_channels=1, out_channels=2, kernel_size=3, stride=1, bias=False)\n",
    "print('weight of conv layer:\\n{}'.format(conv.weight))\n",
    "print('bias of conv layer:\\n{}'.format(conv.bias))"
   ]
  },
  {
   "cell_type": "markdown",
   "id": "toxic-aging",
   "metadata": {},
   "source": [
    "<font size=3>**範例2: Input channel和output channel都增加** </font>\n",
    "\n",
    "| Example   | # input channel | # output channel | kernel sizse | bias   |\n",
    "| :-----:   | :----:          | :----:           |   :----:     | :----: | \n",
    "| Example 1 |  2              |  2               |   3          |  0     |\n",
    "| Example 2 |  2              |  3               |   3          |  0     |\n"
   ]
  },
  {
   "cell_type": "code",
   "execution_count": 4,
   "id": "differential-outline",
   "metadata": {},
   "outputs": [
    {
     "name": "stdout",
     "output_type": "stream",
     "text": [
      "weight tensor of conv layer:\n",
      "Parameter containing:\n",
      "tensor([[[[-0.1888,  0.2050,  0.2145],\n",
      "          [ 0.1028, -0.0710, -0.1288],\n",
      "          [-0.0976,  0.0043, -0.0155]],\n",
      "\n",
      "         [[ 0.0964,  0.0499, -0.1557],\n",
      "          [ 0.1069, -0.2076, -0.1713],\n",
      "          [ 0.0154, -0.0248, -0.0156]]],\n",
      "\n",
      "\n",
      "        [[[ 0.1097,  0.1680,  0.1191],\n",
      "          [-0.1295, -0.0294,  0.2040],\n",
      "          [-0.2148,  0.0862,  0.2299]],\n",
      "\n",
      "         [[ 0.0383,  0.1445,  0.0144],\n",
      "          [-0.1566,  0.1622,  0.1876],\n",
      "          [ 0.1223, -0.1223, -0.0704]]]], requires_grad=True)\n",
      "bias tensor of conv layer:\n",
      "None\n"
     ]
    }
   ],
   "source": [
    "conv = nn.Conv2d(in_channels=2, out_channels=2, kernel_size=3, stride=1, bias=False)\n",
    "print('weight tensor of conv layer:\\n{}'.format(conv.weight))\n",
    "print('bias tensor of conv layer:\\n{}'.format(conv.bias))"
   ]
  },
  {
   "cell_type": "code",
   "execution_count": 7,
   "id": "passing-audit",
   "metadata": {},
   "outputs": [
    {
     "name": "stdout",
     "output_type": "stream",
     "text": [
      "weight tensor of conv layer:\n",
      "Parameter containing:\n",
      "tensor([[[[-0.1681,  0.0237,  0.2341],\n",
      "          [ 0.1012,  0.2113,  0.1761],\n",
      "          [-0.1480, -0.1891,  0.1603]],\n",
      "\n",
      "         [[-0.0810,  0.1823,  0.1640],\n",
      "          [-0.0705, -0.1028, -0.2215],\n",
      "          [-0.2043, -0.1055,  0.0872]]],\n",
      "\n",
      "\n",
      "        [[[-0.1842,  0.0012, -0.0870],\n",
      "          [-0.1616, -0.1769, -0.2203],\n",
      "          [-0.0511, -0.1026,  0.2304]],\n",
      "\n",
      "         [[-0.0374, -0.1433,  0.2319],\n",
      "          [ 0.1798,  0.1916,  0.1152],\n",
      "          [ 0.1123,  0.0271, -0.1203]]],\n",
      "\n",
      "\n",
      "        [[[ 0.1844,  0.0666, -0.1045],\n",
      "          [ 0.2113,  0.0227,  0.1659],\n",
      "          [-0.1990, -0.2220, -0.0810]],\n",
      "\n",
      "         [[-0.2012,  0.1062, -0.1147],\n",
      "          [ 0.1766,  0.0511,  0.0481],\n",
      "          [-0.2228, -0.1860,  0.1430]]]], requires_grad=True)\n",
      "bias tensor of conv layer:\n",
      "None\n"
     ]
    }
   ],
   "source": [
    "conv = nn.Conv2d(in_channels=2, out_channels=3, kernel_size=3, stride=1, bias=False)\n",
    "print('weight tensor of conv layer:\\n{}'.format(conv.weight))\n",
    "print('bias tensor of conv layer:\\n{}'.format(conv.bias))"
   ]
  },
  {
   "cell_type": "code",
   "execution_count": 8,
   "id": "established-assembly",
   "metadata": {},
   "outputs": [
    {
     "name": "stdout",
     "output_type": "stream",
     "text": [
      "torch.Size([3, 2, 3, 3])\n"
     ]
    }
   ],
   "source": [
    "print(conv.weight.shape)\n",
    "# output channel x input channel * ks * ks"
   ]
  },
  {
   "cell_type": "markdown",
   "id": "electronic-powder",
   "metadata": {},
   "source": [
    "<font color='red' size=3>**Note: Conv除了方形，也可以為長方形的型態**</font>"
   ]
  },
  {
   "cell_type": "code",
   "execution_count": 7,
   "id": "communist-soccer",
   "metadata": {},
   "outputs": [
    {
     "name": "stdout",
     "output_type": "stream",
     "text": [
      "torch.Size([3, 2, 3, 1])\n",
      "torch.Size([3, 2, 3, 2])\n"
     ]
    }
   ],
   "source": [
    "conv = nn.Conv2d(in_channels=2, out_channels=3, kernel_size=(3,1), stride=1, bias=False)\n",
    "print(conv.weight.shape)\n",
    "conv = nn.Conv2d(in_channels=2, out_channels=3, kernel_size=(3,2), stride=1, bias=False)\n",
    "print(conv.weight.shape)"
   ]
  },
  {
   "cell_type": "markdown",
   "id": "boxed-madagascar",
   "metadata": {},
   "source": [
    "# Conv權重除了隨機生成之外，也是可以自己指定參數的\n",
    "\n",
    "<frot size=3>\n",
    "    剛剛我們用conv.weight可以看到權重值，所以看的到就能指定值進去。<br>\n",
    "    但不是直接塞到conv.weight，因為是class參數(torch.nn.parameter.Parameter)，不是torch.tensor<br>\n",
    "    因此需塞到的位置是conv.weight.data (屬性為torch.tensor)<br>\n",
    "    同樣要改bias，也是去改conv.同樣要改bias.data<br>\n",
    "    </font>"
   ]
  },
  {
   "cell_type": "code",
   "execution_count": 9,
   "id": "specific-argentina",
   "metadata": {},
   "outputs": [
    {
     "name": "stdout",
     "output_type": "stream",
     "text": [
      "weight of conv layer:\n",
      "Parameter containing:\n",
      "tensor([[[[ 0.1175, -0.0421, -0.0364],\n",
      "          [-0.0119,  0.3209, -0.0851],\n",
      "          [-0.0606, -0.1351, -0.1968]]]], requires_grad=True)\n",
      "bias of conv layer:\n",
      "Parameter containing:\n",
      "tensor([-0.2251], requires_grad=True)\n"
     ]
    }
   ],
   "source": [
    "conv = nn.Conv2d(in_channels=1, out_channels=1, kernel_size=3, stride=1)\n",
    "print('weight of conv layer:\\n{}'.format(conv.weight))\n",
    "print('bias of conv layer:\\n{}'.format(conv.bias))"
   ]
  },
  {
   "cell_type": "code",
   "execution_count": 15,
   "id": "declared-columbia",
   "metadata": {},
   "outputs": [
    {
     "name": "stdout",
     "output_type": "stream",
     "text": [
      "weight of conv layer:\n",
      "Parameter containing:\n",
      "tensor([[0, 0, 0],\n",
      "        [1, 2, 3],\n",
      "        [4, 5, 6]], requires_grad=True)\n",
      "bias of conv layer:\n",
      "Parameter containing:\n",
      "tensor([10000000000000], requires_grad=True)\n"
     ]
    }
   ],
   "source": [
    "replace_weight = torch.tensor([[0,0,0],\n",
    "                               [1,2,3],\n",
    "                               [4,5,6]])\n",
    "replace_bias = torch.tensor([10000000000000])\n",
    "conv.weight.data=replace_weight\n",
    "conv.bias.data=replace_bias\n",
    "print('weight of conv layer:\\n{}'.format(conv.weight))\n",
    "print('bias of conv layer:\\n{}'.format(conv.bias))"
   ]
  },
  {
   "cell_type": "markdown",
   "id": "random-mandate",
   "metadata": {},
   "source": [
    "<font color=#0000FF size=3> **快速將權重改成全部都是0、全部都是1或是任意數**\n",
    "</font>"
   ]
  },
  {
   "cell_type": "code",
   "execution_count": 16,
   "id": "complex-headset",
   "metadata": {},
   "outputs": [
    {
     "name": "stdout",
     "output_type": "stream",
     "text": [
      "weight of conv layer:\n",
      "Parameter containing:\n",
      "tensor([[0, 0, 0],\n",
      "        [0, 0, 0],\n",
      "        [0, 0, 0]], requires_grad=True)\n",
      "bias of conv layer:\n",
      "Parameter containing:\n",
      "tensor([0], requires_grad=True)\n"
     ]
    }
   ],
   "source": [
    "conv.weight.data.zero_()\n",
    "conv.bias.data.zero_()\n",
    "print('weight of conv layer:\\n{}'.format(conv.weight))\n",
    "print('bias of conv layer:\\n{}'.format(conv.bias))"
   ]
  },
  {
   "cell_type": "code",
   "execution_count": 17,
   "id": "textile-format",
   "metadata": {},
   "outputs": [
    {
     "name": "stdout",
     "output_type": "stream",
     "text": [
      "**************************************************\n",
      "weight of conv layer:\n",
      "Parameter containing:\n",
      "tensor([[1, 1, 1],\n",
      "        [1, 1, 1],\n",
      "        [1, 1, 1]], requires_grad=True)\n",
      "bias of conv layer:\n",
      "Parameter containing:\n",
      "tensor([1], requires_grad=True)\n",
      "**************************************************\n",
      "weight of conv layer:\n",
      "Parameter containing:\n",
      "tensor([[0, 0, 0],\n",
      "        [0, 0, 0],\n",
      "        [0, 0, 0]], requires_grad=True)\n",
      "bias of conv layer:\n",
      "Parameter containing:\n",
      "tensor([0], requires_grad=True)\n",
      "**************************************************\n",
      "weight of conv layer:\n",
      "Parameter containing:\n",
      "tensor([[200, 200, 200],\n",
      "        [200, 200, 200],\n",
      "        [200, 200, 200]], requires_grad=True)\n",
      "bias of conv layer:\n",
      "Parameter containing:\n",
      "tensor([10], requires_grad=True)\n"
     ]
    }
   ],
   "source": [
    "conv.weight.data.fill_(1)\n",
    "conv.bias.data.fill_(1)\n",
    "print('*'*50)\n",
    "print('weight of conv layer:\\n{}'.format(conv.weight))\n",
    "print('bias of conv layer:\\n{}'.format(conv.bias))\n",
    "######################################\n",
    "conv.weight.data.fill_(0)\n",
    "conv.bias.data.fill_(0)\n",
    "print('*'*50)\n",
    "print('weight of conv layer:\\n{}'.format(conv.weight))\n",
    "print('bias of conv layer:\\n{}'.format(conv.bias))\n",
    "######################################\n",
    "conv.weight.data.fill_(200)\n",
    "conv.bias.data.fill_(10)\n",
    "print('*'*50)\n",
    "print('weight of conv layer:\\n{}'.format(conv.weight))\n",
    "print('bias of conv layer:\\n{}'.format(conv.bias))"
   ]
  },
  {
   "attachments": {
    "image-3.png": {
     "image/png": "[encoded data removed]"
    }
   },
   "cell_type": "markdown",
   "id": "compact-terrain",
   "metadata": {},
   "source": [
    "# Conv運算\n",
    "Example 1: Conv.\n",
    "![image-3.png](attachment:image-3.png)"
   ]
  },
  {
   "cell_type": "code",
   "execution_count": 18,
   "id": "psychological-skirt",
   "metadata": {},
   "outputs": [
    {
     "name": "stdout",
     "output_type": "stream",
     "text": [
      "Input feature map:tensor([[[[ 2.,  4.,  6.],\n",
      "          [ 8., 10., 12.],\n",
      "          [14., 16., 18.]]]])\n",
      "weight of conv.:tensor([[[[1., 3.],\n",
      "          [5., 7.]]]])\n",
      "bias of conv.:tensor([5])\n",
      "Output feature map:tensor([[[[129., 161.],\n",
      "          [225., 257.]]]], grad_fn=<ThnnConv2DBackward>)\n"
     ]
    }
   ],
   "source": [
    "InputImage = torch.FloatTensor([[ 2, 4, 6],\n",
    "                                [ 8,10,12],\n",
    "                                [14,16,18]]).unsqueeze(axis=0).unsqueeze(axis=0) # 1,1,2,2\n",
    "\n",
    "conv = nn.Conv2d(in_channels=1, out_channels=1, kernel_size=2, stride=1)\n",
    "replace_weight = torch.FloatTensor([[1,3],\n",
    "                                    [5,7]]).unsqueeze(axis=0).unsqueeze(axis=0) # 1,1,2,2\n",
    "replace_bias = torch.tensor([5])\n",
    "conv.weight.data=replace_weight\n",
    "conv.bias.data=replace_bias\n",
    "print('Input feature map:{}'.format(InputImage))\n",
    "print('weight of conv.:{}'.format(conv.weight.data))\n",
    "print('bias of conv.:{}'.format(conv.bias.data))\n",
    "output = conv(InputImage)\n",
    "print('Output feature map:{}'.format(output))\n"
   ]
  },
  {
   "attachments": {
    "image-3.png": {
     "image/png": "[encoded data removed]"
    }
   },
   "cell_type": "markdown",
   "id": "included-thermal",
   "metadata": {},
   "source": [
    "Example 2: Conv.\n",
    "![image-3.png](attachment:image-3.png)"
   ]
  },
  {
   "cell_type": "code",
   "execution_count": 19,
   "id": "conventional-comparative",
   "metadata": {},
   "outputs": [
    {
     "name": "stdout",
     "output_type": "stream",
     "text": [
      "Input feature map:tensor([[[[1., 1., 1.],\n",
      "          [1., 1., 1.],\n",
      "          [1., 1., 1.]],\n",
      "\n",
      "         [[2., 2., 2.],\n",
      "          [2., 2., 2.],\n",
      "          [2., 2., 2.]]]])\n",
      "weight of conv.:tensor([[[[3., 3.],\n",
      "          [3., 3.]],\n",
      "\n",
      "         [[4., 4.],\n",
      "          [4., 4.]]],\n",
      "\n",
      "\n",
      "        [[[1., 1.],\n",
      "          [1., 1.]],\n",
      "\n",
      "         [[2., 2.],\n",
      "          [2., 2.]]]])\n",
      "bias of conv.:tensor([10,  5])\n",
      "Output feature map:tensor([[[[54., 54.],\n",
      "          [54., 54.]],\n",
      "\n",
      "         [[25., 25.],\n",
      "          [25., 25.]]]], grad_fn=<ThnnConv2DBackward>)\n"
     ]
    }
   ],
   "source": [
    "InputImage = torch.FloatTensor([\n",
    "                                [[ 1,1,1],\n",
    "                                 [ 1,1,1],\n",
    "                                 [ 1,1,1]],\n",
    "                                [[ 2,2,2],\n",
    "                                 [ 2,2,2],\n",
    "                                 [ 2,2,2]]\n",
    "                                ]).unsqueeze(axis=0) # 1*2*3*3\n",
    "\n",
    "conv = nn.Conv2d(in_channels=2, out_channels=2, kernel_size=2, stride=1) # 2*2*2*2\n",
    "replace_weight = torch.FloatTensor([\n",
    "                                    [[[3,3],\n",
    "                                     [3,3]],\n",
    "                                    [[4,4],\n",
    "                                     [4,4]]],\n",
    "                                    [[[1,1],\n",
    "                                     [1,1]],\n",
    "                                    [[2,2],\n",
    "                                     [2,2]]]\n",
    "                                    ])\n",
    "replace_bias = torch.tensor([10,5])\n",
    "conv.weight.data=replace_weight\n",
    "conv.bias.data=replace_bias\n",
    "print('Input feature map:{}'.format(InputImage))\n",
    "print('weight of conv.:{}'.format(conv.weight.data))\n",
    "print('bias of conv.:{}'.format(conv.bias.data))\n",
    "output = conv(InputImage)\n",
    "print('Output feature map:{}'.format(output))"
   ]
  },
  {
   "cell_type": "markdown",
   "id": "mighty-handbook",
   "metadata": {},
   "source": [
    "----------------------------------\n",
    "<font color=#0000FF size=3> **快速將權重改成某種分布**\n",
    "</font>"
   ]
  },
  {
   "cell_type": "code",
   "execution_count": 13,
   "id": "stable-divorce",
   "metadata": {},
   "outputs": [
    {
     "name": "stdout",
     "output_type": "stream",
     "text": [
      "weight of conv layer:\n",
      "Parameter containing:\n",
      "tensor([[[[ 0.2152, -0.1962, -0.2651],\n",
      "          [-0.0582, -0.2000,  0.0533],\n",
      "          [-0.0094, -0.2791, -0.0262]]]], requires_grad=True)\n",
      "**************************************************\n",
      "weight of conv layer:\n",
      "Parameter containing:\n",
      "tensor([[[[ 0.3023, -0.1886, -0.6398],\n",
      "          [ 1.6285,  1.2086,  0.6949],\n",
      "          [ 0.2701,  0.5712,  1.3276]]]], requires_grad=True)\n"
     ]
    }
   ],
   "source": [
    "conv = nn.Conv2d(in_channels=1, out_channels=1, kernel_size=(3), stride=1)\n",
    "print('weight of conv layer:\\n{}'.format(conv.weight))\n",
    "conv.weight.data.normal_(0,1)\n",
    "print('*'*50)\n",
    "print('weight of conv layer:\\n{}'.format(conv.weight))"
   ]
  },
  {
   "cell_type": "code",
   "execution_count": 14,
   "id": "bizarre-wellington",
   "metadata": {},
   "outputs": [
    {
     "data": {
      "text/plain": [
       "(array([19., 26., 21., 18., 13., 16., 20., 11., 22., 26., 18., 17., 24.,\n",
       "        20., 10.,  9., 15., 24., 24., 15., 20., 21., 24., 24., 24., 21.,\n",
       "        16., 27., 14., 22., 29., 21., 20., 23., 22., 14., 22., 21., 19.,\n",
       "        22., 21., 25., 20., 24., 21., 18., 23., 10., 18., 26.]),\n",
       " array([-0.03161015, -0.03034988, -0.02908961, -0.02782933, -0.02656906,\n",
       "        -0.02530878, -0.02404851, -0.02278823, -0.02152796, -0.02026769,\n",
       "        -0.01900741, -0.01774714, -0.01648686, -0.01522659, -0.01396631,\n",
       "        -0.01270604, -0.01144577, -0.01018549, -0.00892522, -0.00766494,\n",
       "        -0.00640467, -0.0051444 , -0.00388412, -0.00262385, -0.00136357,\n",
       "        -0.0001033 ,  0.00115698,  0.00241725,  0.00367752,  0.0049378 ,\n",
       "         0.00619807,  0.00745835,  0.00871862,  0.0099789 ,  0.01123917,\n",
       "         0.01249944,  0.01375972,  0.01501999,  0.01628027,  0.01754054,\n",
       "         0.01880081,  0.02006109,  0.02132136,  0.02258164,  0.02384191,\n",
       "         0.02510219,  0.02636246,  0.02762273,  0.02888301,  0.03014328,\n",
       "         0.03140356], dtype=float32),\n",
       " <BarContainer object of 50 artists>)"
      ]
     },
     "execution_count": 14,
     "metadata": {},
     "output_type": "execute_result"
    },
    {
     "data": {
      "image/png": "[encoded data removed]",
      "text/plain": [
       "<Figure size 432x288 with 1 Axes>"
      ]
     },
     "metadata": {
      "needs_background": "light"
     },
     "output_type": "display_data"
    }
   ],
   "source": [
    "\n",
    "conv = nn.Conv2d(in_channels=1, out_channels=1, kernel_size=(1000,1), stride=1)\n",
    "data = conv.weight.data\n",
    "data = data.numpy()\n",
    "data = np.squeeze(data)\n",
    "plt.hist(data,50)"
   ]
  },
  {
   "cell_type": "code",
   "execution_count": 15,
   "id": "facial-frank",
   "metadata": {},
   "outputs": [
    {
     "data": {
      "text/plain": [
       "(array([ 1.,  0.,  1.,  3.,  2.,  1.,  2.,  3.,  5.,  5., 11.,  6., 19.,\n",
       "        21., 16., 21., 38., 34., 22., 27., 36., 45., 49., 53., 51., 55.,\n",
       "        34., 57., 39., 46., 49., 38., 40., 28., 23., 31., 17., 18., 16.,\n",
       "         8.,  7.,  8.,  1.,  5.,  3.,  1.,  1.,  2.,  0.,  1.]),\n",
       " array([-3.1090083 , -2.984487  , -2.8599658 , -2.7354445 , -2.6109233 ,\n",
       "        -2.486402  , -2.361881  , -2.2373598 , -2.1128385 , -1.9883173 ,\n",
       "        -1.863796  , -1.7392747 , -1.6147535 , -1.4902323 , -1.3657111 ,\n",
       "        -1.2411898 , -1.1166686 , -0.9921474 , -0.86762613, -0.74310493,\n",
       "        -0.6185837 , -0.49406245, -0.36954123, -0.24501999, -0.12049875,\n",
       "         0.00402248,  0.1285437 ,  0.25306493,  0.3775862 ,  0.5021074 ,\n",
       "         0.62662864,  0.7511499 ,  0.8756711 ,  1.0001923 ,  1.1247135 ,\n",
       "         1.2492348 ,  1.373756  ,  1.4982773 ,  1.6227984 ,  1.7473197 ,\n",
       "         1.871841  ,  1.9963622 ,  2.1208835 ,  2.2454047 ,  2.369926  ,\n",
       "         2.4944472 ,  2.6189682 ,  2.7434895 ,  2.8680108 ,  2.992532  ,\n",
       "         3.1170533 ], dtype=float32),\n",
       " <BarContainer object of 50 artists>)"
      ]
     },
     "execution_count": 15,
     "metadata": {},
     "output_type": "execute_result"
    },
    {
     "data": {
      "image/png": "[encoded data removed]",
      "text/plain": [
       "<Figure size 432x288 with 1 Axes>"
      ]
     },
     "metadata": {
      "needs_background": "light"
     },
     "output_type": "display_data"
    }
   ],
   "source": [
    "conv = nn.Conv2d(in_channels=1, out_channels=1, kernel_size=(1000,1), stride=1)\n",
    "conv.weight.data.normal_(0,1)\n",
    "data = conv.weight.data\n",
    "data = data.numpy()\n",
    "data = np.squeeze(data)\n",
    "plt.hist(data,50)"
   ]
  },
  {
   "cell_type": "markdown",
   "id": "light-fantasy",
   "metadata": {},
   "source": [
    "<font color=#0000FF size=3> **那要用哪生成方式**\n",
    "</font>\n",
    "<font  size=3>\n",
    "+ 1. 不用理他，用default就好 <br>\n",
    "+ 2. Xavier系列: Xavier均匀分布、Xavier常態分布 <br>\n",
    "+ 3. kaiming系列: kaiming均匀分布、kaiming常態分布 <br>\n",
    "+ 4. 我要自己發明，但有哪些函數可以用\n",
    "\n",
    ">Note:<br>\n",
    "    - 參數初始化可以見torch.nn.init。 <br>\n",
    "    - 均勻分布 = uniform distribution <br>\n",
    "    - 常態分布 = normal distribution <br>\n",
    "    去年課程有介紹過Xavier和kaiming的方法，有興趣知道為什麼要這樣設定的可以看我以前寫的文章[深度學習: Weight initialization和Batch Normalization](https://chih-sheng-huang821.medium.com/%E6%B7%B1%E5%BA%A6%E5%AD%B8%E7%BF%92-weight-initialization%E5%92%8Cbatch-normalization-f264c4be37f5)\n",
    "    </font>"
   ]
  },
  {
   "cell_type": "code",
   "execution_count": 21,
   "id": "optimum-america",
   "metadata": {},
   "outputs": [],
   "source": [
    "def histforConv(conv):\n",
    "    data = conv.weight.data\n",
    "    data = torch.flatten(data)\n",
    "    data = data.numpy()\n",
    "    data = np.squeeze(data)\n",
    "    plt.hist(data,50)\n",
    "    plt.show()"
   ]
  },
  {
   "cell_type": "markdown",
   "id": "daily-polymer",
   "metadata": {},
   "source": [
    "### 1. 不用理他，用default就好 <br>\n",
    "Default用什麼生成，我們來看一下他的生成方式。\n",
    "\n",
    "default是用均勻分布\n",
    "$$U(-stdv, stdv)$$\n",
    "stdv為\n",
    "$$\n",
    "stdv = \\frac{1}{\\sqrt{x}}\n",
    "$$\n",
    "x=(output channel個數*kernel sizse)"
   ]
  },
  {
   "cell_type": "code",
   "execution_count": 17,
   "id": "affiliated-accreditation",
   "metadata": {},
   "outputs": [
    {
     "data": {
      "image/png": "[encoded data removed]",
      "text/plain": [
       "<Figure size 432x288 with 1 Axes>"
      ]
     },
     "metadata": {
      "needs_background": "light"
     },
     "output_type": "display_data"
    },
    {
     "data": {
      "image/png": "[encoded data removed]",
      "text/plain": [
       "<Figure size 432x288 with 1 Axes>"
      ]
     },
     "metadata": {
      "needs_background": "light"
     },
     "output_type": "display_data"
    }
   ],
   "source": [
    "import math\n",
    "conv = nn.Conv2d(in_channels=10, out_channels=30, kernel_size=(10,10), stride=1) # 30,10,10,10\n",
    "histforConv(conv)\n",
    "\n",
    "stdv = 1. / math.sqrt(conv.weight.size(1)*conv.weight.size(2)*conv.weight.size(3))\n",
    "conv.weight.data.uniform_(-stdv, stdv)\n",
    "histforConv(conv)\n"
   ]
  },
  {
   "cell_type": "markdown",
   "id": "armed-provider",
   "metadata": {},
   "source": [
    "### 2. Xavier系列: Xavier均匀分布、Xavier常態分布"
   ]
  },
  {
   "cell_type": "code",
   "execution_count": 23,
   "id": "reverse-resort",
   "metadata": {},
   "outputs": [
    {
     "data": {
      "image/png": "[encoded data removed]",
      "text/plain": [
       "<Figure size 432x288 with 1 Axes>"
      ]
     },
     "metadata": {
      "needs_background": "light"
     },
     "output_type": "display_data"
    },
    {
     "data": {
      "image/png": "[encoded data removed]",
      "text/plain": [
       "<Figure size 432x288 with 1 Axes>"
      ]
     },
     "metadata": {
      "needs_background": "light"
     },
     "output_type": "display_data"
    }
   ],
   "source": [
    "conv = nn.Conv2d(in_channels=1, out_channels=1, kernel_size=(1000,1), stride=1)\n",
    "nn.init.xavier_uniform_(conv.weight)\n",
    "histforConv(conv)\n",
    "\n",
    "nn.init.xavier_normal_(conv.weight)\n",
    "histforConv(conv)"
   ]
  },
  {
   "cell_type": "markdown",
   "id": "informal-recipient",
   "metadata": {},
   "source": [
    "也靠參數(gain)設定可以調整分布的範圍"
   ]
  },
  {
   "cell_type": "code",
   "execution_count": 24,
   "id": "generic-strike",
   "metadata": {},
   "outputs": [
    {
     "data": {
      "image/png": "[encoded data removed]",
      "text/plain": [
       "<Figure size 432x288 with 1 Axes>"
      ]
     },
     "metadata": {
      "needs_background": "light"
     },
     "output_type": "display_data"
    },
    {
     "data": {
      "image/png": "[encoded data removed]",
      "text/plain": [
       "<Figure size 432x288 with 1 Axes>"
      ]
     },
     "metadata": {
      "needs_background": "light"
     },
     "output_type": "display_data"
    }
   ],
   "source": [
    "nn.init.xavier_normal_(conv.weight)\n",
    "histforConv(conv)\n",
    "nn.init.xavier_normal_(conv.weight, gain=10)\n",
    "histforConv(conv)"
   ]
  },
  {
   "cell_type": "markdown",
   "id": "infectious-wrong",
   "metadata": {},
   "source": [
    "### 3. kaiming系列: kaiming均匀分布、kaiming常態分布 <br>"
   ]
  },
  {
   "cell_type": "code",
   "execution_count": 20,
   "id": "stuffed-copyright",
   "metadata": {},
   "outputs": [
    {
     "data": {
      "image/png": "[encoded data removed]",
      "text/plain": [
       "<Figure size 432x288 with 1 Axes>"
      ]
     },
     "metadata": {
      "needs_background": "light"
     },
     "output_type": "display_data"
    },
    {
     "data": {
      "image/png": "[encoded data removed]",
      "text/plain": [
       "<Figure size 432x288 with 1 Axes>"
      ]
     },
     "metadata": {
      "needs_background": "light"
     },
     "output_type": "display_data"
    }
   ],
   "source": [
    "conv = nn.Conv2d(in_channels=1, out_channels=1, kernel_size=(1000,1), stride=1)\n",
    "nn.init.kaiming_uniform_(conv.weight)\n",
    "histforConv(conv)\n",
    "\n",
    "nn.init.kaiming_normal_(conv.weight)\n",
    "histforConv(conv)"
   ]
  },
  {
   "cell_type": "markdown",
   "id": "tight-ticket",
   "metadata": {},
   "source": [
    "### 4. 我要自己發明，但有哪些函數可以用<br>\n",
    "\n",
    "Reference: [TORCH.NN.INIT](https://pytorch.org/docs/stable/nn.init.html?highlight=nn%20init%20sparse_#torch.nn.init.sparse_)\n",
    "\n",
    "----------------\n",
    "1. 均勻分布，參數服從均勻分布a到b之間: <br>\n",
    "$$\n",
    "U(a,b)\n",
    "$$\n",
    "<code>torch.nn.init.uniform_(tensor, a=0, b=1)</code>\n",
    "\n",
    "----------------    \n",
    "2. 常態分布，參數服從常態分布，default為平均數0 標準差1: <br>\n",
    "$$\n",
    "N(mean,std)\n",
    "$$\n",
    "<code>torch.nn.init.normal_(tensor, mean=0, std=1)</code>  \n",
    "\n",
    "----------------    \n",
    "3. 設定為常數 <br>\n",
    "<code>torch.nn.init.constant_(tensor, val)</code>\n",
    "\n",
    "----------------\n",
    "4. 單位化矩陣設定 <br>\n",
    "<code>torch.nn.init.eye_(tensor)</code>\n",
    "\n",
    "----------------\n",
    "5. 正交 <br>\n",
    "讓生成的權重之間會正交。（必須至少是2維的，對於更高維度的張量，超出的維度會被展平，視作行等於第一個維度。<br>\n",
    "<code>torch.nn.init.orthogonal_(tensor, gain=1)</code>\n",
    "\n",
    "----------------\n",
    "6. sparsity <br>\n",
    "讓參數生成的時候會稀疏化。\n",
    "參數sparsity設定為每一列要設定為0的比例。<br>\n",
    "其他非0的參數生成採用$N(0, std)$，預設std=0.01。<br>\n",
    "<code>torch.nn.init.sparse_(tensor, sparsity, std=0.01)</code>\n",
    "\n",
    "----------------"
   ]
  },
  {
   "cell_type": "code",
   "execution_count": 25,
   "id": "western-request",
   "metadata": {},
   "outputs": [
    {
     "data": {
      "image/png": "[encoded data removed]",
      "text/plain": [
       "<Figure size 432x288 with 1 Axes>"
      ]
     },
     "metadata": {
      "needs_background": "light"
     },
     "output_type": "display_data"
    }
   ],
   "source": [
    "# 1. 均勻分布，參數服從均勻分布a到b之間\n",
    "conv = nn.Conv2d(in_channels=1, out_channels=1, kernel_size=(1000,1), stride=1)\n",
    "nn.init.uniform_(conv.weight,a=100, b=200)\n",
    "histforConv(conv)"
   ]
  },
  {
   "cell_type": "code",
   "execution_count": 30,
   "id": "moving-judge",
   "metadata": {},
   "outputs": [
    {
     "data": {
      "image/png": "[encoded data removed]",
      "text/plain": [
       "<Figure size 432x288 with 1 Axes>"
      ]
     },
     "metadata": {
      "needs_background": "light"
     },
     "output_type": "display_data"
    }
   ],
   "source": [
    "# 2. 常態分布，參數服從常態分布，default為平均數0 標準差1\n",
    "conv = nn.Conv2d(in_channels=1, out_channels=1, kernel_size=(1000,1), stride=1)\n",
    "nn.init.normal_(conv.weight,mean=0, std=0.01)\n",
    "histforConv(conv)"
   ]
  },
  {
   "cell_type": "code",
   "execution_count": 23,
   "id": "documented-pharmaceutical",
   "metadata": {},
   "outputs": [
    {
     "data": {
      "image/png": "[encoded data removed]",
      "text/plain": [
       "<Figure size 432x288 with 1 Axes>"
      ]
     },
     "metadata": {
      "needs_background": "light"
     },
     "output_type": "display_data"
    }
   ],
   "source": [
    "# 3. 設定為常數\n",
    "conv = nn.Conv2d(in_channels=1, out_channels=1, kernel_size=(100,1), stride=1)\n",
    "nn.init.constant_(conv.weight,val=10)\n",
    "histforConv(conv)"
   ]
  },
  {
   "cell_type": "code",
   "execution_count": 24,
   "id": "christian-planet",
   "metadata": {},
   "outputs": [
    {
     "name": "stdout",
     "output_type": "stream",
     "text": [
      "weight of conv layer:\n",
      "Parameter containing:\n",
      "tensor([[[[1., 0., 0., 0., 0.],\n",
      "          [0., 1., 0., 0., 0.],\n",
      "          [0., 0., 1., 0., 0.],\n",
      "          [0., 0., 0., 1., 0.],\n",
      "          [0., 0., 0., 0., 1.]]]], requires_grad=True)\n"
     ]
    }
   ],
   "source": [
    "# 4. 單位化矩陣設定\n",
    "conv = nn.Conv2d(in_channels=1, out_channels=1, kernel_size=(5,5), stride=1)\n",
    "nn.init.eye_(conv.weight.data[0,0,:,:])\n",
    "print('weight of conv layer:\\n{}'.format(conv.weight))"
   ]
  },
  {
   "cell_type": "code",
   "execution_count": 25,
   "id": "sunrise-principle",
   "metadata": {},
   "outputs": [
    {
     "name": "stdout",
     "output_type": "stream",
     "text": [
      "weight of conv layer:\n",
      "Parameter containing:\n",
      "tensor([[[[-0.9499],\n",
      "          [-0.3125]]],\n",
      "\n",
      "\n",
      "        [[[-0.3125],\n",
      "          [ 0.9499]]]], requires_grad=True)\n",
      "torch.Size([2, 1, 2, 1])\n",
      "[[ 9.9999976e-01 -3.7126032e-08]\n",
      " [-3.7126032e-08  1.0000000e+00]]\n",
      "torch.Size([4, 10, 1, 1])\n",
      "[[ 9.9999982e-01  9.7125934e-09  1.2959491e-08  5.8572944e-08]\n",
      " [ 9.7125934e-09  1.0000002e+00  2.7926085e-08  8.2160987e-08]\n",
      " [ 1.2959491e-08  2.7926085e-08  9.9999964e-01 -8.4383025e-08]\n",
      " [ 5.8572944e-08  8.2160987e-08 -8.4383025e-08  1.0000001e+00]]\n"
     ]
    }
   ],
   "source": [
    "# 5. 正交 \n",
    "conv = nn.Conv2d(in_channels=1, out_channels=2, kernel_size=(2,1), stride=1)\n",
    "nn.init.orthogonal_(conv.weight)\n",
    "print('weight of conv layer:\\n{}'.format(conv.weight))\n",
    "\n",
    "data = conv.weight.data\n",
    "print(data.shape)\n",
    "data = data.numpy()[:,0,:,0]\n",
    "print(np.dot(data,np.transpose(data)))\n",
    "\n",
    "\n",
    "conv = nn.Conv2d(in_channels=10, out_channels=4, kernel_size=(1,1), stride=1)\n",
    "nn.init.orthogonal_(conv.weight)\n",
    "data = conv.weight.data\n",
    "print(data.shape)\n",
    "data = data.numpy()[:,:,0,0]\n",
    "print(np.dot(data,np.transpose(data)))\n"
   ]
  },
  {
   "cell_type": "code",
   "execution_count": 32,
   "id": "ecological-leone",
   "metadata": {},
   "outputs": [
    {
     "name": "stdout",
     "output_type": "stream",
     "text": [
      "weight of conv layer:\n",
      "Parameter containing:\n",
      "tensor([[[[ -5.9276,   0.0000,   0.0000,  -7.0066,   1.4881],\n",
      "          [  5.3998,  18.3354, -11.7134,   7.5451,   0.0000],\n",
      "          [ -5.4261,   0.0000,  15.0550,   0.0000,  -4.5011],\n",
      "          [  0.0000,  -5.6679,  16.5637,   0.0000,  -0.6354],\n",
      "          [  0.0000,  15.1858,   0.0000, -11.5504,   0.0000]]]],\n",
      "       requires_grad=True)\n"
     ]
    }
   ],
   "source": [
    "# 6. sparsity \n",
    "conv = nn.Conv2d(in_channels=1, out_channels=1, kernel_size=(5,5), stride=1)\n",
    "nn.init.sparse_(conv.weight.data[0,0,:,:], sparsity=0.3, std=10)\n",
    "print('weight of conv layer:\\n{}'.format(conv.weight))"
   ]
  },
  {
   "cell_type": "code",
   "execution_count": null,
   "id": "genetic-waterproof",
   "metadata": {},
   "outputs": [],
   "source": []
  }
 ],
 "metadata": {
  "kernelspec": {
   "display_name": "Python 3 (ipykernel)",
   "language": "python",
   "name": "python3"
  },
  "language_info": {
   "codemirror_mode": {
    "name": "ipython",
    "version": 3
   },
   "file_extension": ".py",
   "mimetype": "text/x-python",
   "name": "python",
   "nbconvert_exporter": "python",
   "pygments_lexer": "ipython3",
   "version": "3.7.9"
  }
 },
 "nbformat": 4,
 "nbformat_minor": 5
}
