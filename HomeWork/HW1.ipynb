{
 "cells": [
  {
   "cell_type": "markdown",
   "id": "hispanic-shoulder",
   "metadata": {},
   "source": [
    "# [機器與深度學習基礎知識初探] Homework 1<br>\n",
    "\n",
    "<font size = 4>\n",
    "    請用.ipynb交作業，檔名用HW1_學號_名稱.ipynb，例如: HW1_0123456_黃大明.ipynb"
   ]
  },
  {
   "cell_type": "markdown",
   "id": "blessed-banking",
   "metadata": {},
   "source": [
    "## 1.\tGiven a dataset with (x,y)= {(1,4), (2,5), (5,10), (6,12), (7,15), (0, 2), (4, 6)}，請手算x和 y之間的相關係數 (寫下計算步驟)。<br>\n",
    "<font size = 4>\n",
    "    如果不會用markdown打方程式，請「手寫」好後貼圖到ipynb。\n",
    "</font>"
   ]
  },
  {
   "cell_type": "markdown",
   "id": "offensive-assist",
   "metadata": {},
   "source": [
    "ANS1: write here "
   ]
  },
  {
   "cell_type": "markdown",
   "id": "explicit-corps",
   "metadata": {},
   "source": [
    "## 2.\t利用相關係數公式撰寫python程式計算第二題的問題 (可用numpy做基本的矩陣運算，請不要直接用API得到答案)。"
   ]
  },
  {
   "cell_type": "code",
   "execution_count": 1,
   "id": "extended-following",
   "metadata": {},
   "outputs": [],
   "source": [
    "# ANS2"
   ]
  },
  {
   "cell_type": "markdown",
   "id": "social-female",
   "metadata": {},
   "source": [
    "## 3.\t利用2撰寫的程式計算下列程式碼出現的x和y的相關係數值。"
   ]
  },
  {
   "cell_type": "code",
   "execution_count": 2,
   "id": "rocky-samoa",
   "metadata": {},
   "outputs": [
    {
     "name": "stdout",
     "output_type": "stream",
     "text": [
      "data 0: x=0.32, y=-0.08\n",
      "data 1: x=-2.02, y=-5.70\n",
      "data 2: x=-0.31, y=-11.53\n",
      "data 3: x=0.83, y=0.19\n"
     ]
    }
   ],
   "source": [
    "import numpy as np\n",
    "np.random.seed(1)\n",
    "n=100\n",
    "noise = (np.random.rand(n)-0.5)*2\n",
    "x = np.random.normal(0,1,n)\n",
    "y = 5 * x  +  10 * noise\n",
    "for i, (tmp_x, tmp_y) in enumerate(zip(x,y)):\n",
    "    print('data {}: x={:.2f}, y={:.2f}'.format(i, tmp_x,tmp_y))\n",
    "    if i >=3:\n",
    "        break"
   ]
  },
  {
   "cell_type": "code",
   "execution_count": 3,
   "id": "robust-ozone",
   "metadata": {},
   "outputs": [],
   "source": [
    "# ANS3"
   ]
  },
  {
   "cell_type": "markdown",
   "id": "domestic-application",
   "metadata": {},
   "source": [
    "## 4.\t多元回歸(Multiple regression)\n",
    "\n",
    "\n",
    "$$\n",
    "({\\bf{x}}_i,y_i) , {\\bf{x}}_i = \\begin{bmatrix} 1 \\\\ x_{i1} \\\\ \\vdots \\\\ x_{id}\\\\ \\end{bmatrix} \\in R^{d+1}, \\forall i=1,2,...,n \n",
    "$$\n",
    "\n",
    "$$\n",
    "{\\bf{Y}} = \\begin{bmatrix} y_1 \\\\ y_2 \\\\ \\vdots \\\\ y_n\\\\ \\end{bmatrix}, \n",
    "{\\bf{\\beta}} = \\begin{bmatrix} \\beta_0 \\\\ \\beta_1 \\\\ \\vdots \\\\ \\beta_n\\\\ \\end{bmatrix},\n",
    "{\\bf{X}} = \\begin{bmatrix} \\bf{X}_1^T \\\\ \\bf{X}_2^T  \\\\ \\vdots \\\\ \\bf{X}_n^T \\\\ \\end{bmatrix}\n",
    " = \\begin{bmatrix} 1&x_{11}&...&x_{1d} \\\\ \\ 1&x_{21}&...&x_{2d}  \\\\ \\vdots \\\\ \\ 1&x_{n1}&...&x_{nd} \\\\ \\end{bmatrix} \n",
    "$$\n",
    "\n",
    "**Regression:** $$\\bf{Y}=  {\\bf{X}}{\\bf{\\beta}}$$\n",
    "\n",
    "$$\n",
    "loss({\\bf{\\beta}})=(\\bf{Y}-\\hat{\\bf{Y}})^T(\\bf{Y}-\\hat{\\bf{Y}})\n",
    "$$\n",
    "\n",
    "**找${\\bf{\\beta}}$的closed-form solution**\n",
    "\n"
   ]
  },
  {
   "cell_type": "markdown",
   "id": "artificial-living",
   "metadata": {},
   "source": []
  },
  {
   "attachments": {},
   "cell_type": "markdown",
   "id": "significant-entity",
   "metadata": {},
   "source": [
    "## 5. 依據第4題推出的公式做python程式撰寫 ，寫一個Multiple regression\n",
    "Data在HW1-RegressionExample.txt，第1欄是dependent variable, 第2~5欄是independent variable。"
   ]
  },
  {
   "cell_type": "code",
   "execution_count": 6,
   "id": "roman-implement",
   "metadata": {},
   "outputs": [
    {
     "name": "stdout",
     "output_type": "stream",
     "text": [
      "data 0: x=[1.5e+01 1.8e+06 5.8e+03 5.0e+01], y=192000.0\n",
      "data 1: x=[1.50e+01 1.79e+06 6.20e+03 5.00e+01], y=190400.0\n",
      "data 2: x=[1.50e+01 1.78e+06 6.40e+03 6.00e+01], y=191200.0\n",
      "data 3: x=[2.500e+01 1.778e+06 6.500e+03 6.000e+01], y=177600.0\n"
     ]
    }
   ],
   "source": [
    "import numpy as np\n",
    "data=np.genfromtxt(\"HW1-RegressionExample.txt\", delimiter=' ',dtype =float)\n",
    "x=data[:,1:]\n",
    "y=data[:,0]\n",
    "for i, (tmp_x, tmp_y) in enumerate(zip(x,y)):\n",
    "    print('data {}: x={}, y={}'.format(i, tmp_x, tmp_y))\n",
    "    if i >=3:\n",
    "        break"
   ]
  },
  {
   "cell_type": "code",
   "execution_count": null,
   "id": "convenient-manitoba",
   "metadata": {},
   "outputs": [],
   "source": []
  }
 ],
 "metadata": {
  "kernelspec": {
   "display_name": "Python 3",
   "language": "python",
   "name": "python3"
  },
  "language_info": {
   "codemirror_mode": {
    "name": "ipython",
    "version": 3
   },
   "file_extension": ".py",
   "mimetype": "text/x-python",
   "name": "python",
   "nbconvert_exporter": "python",
   "pygments_lexer": "ipython3",
   "version": "3.7.9"
  }
 },
 "nbformat": 4,
 "nbformat_minor": 5
}
