{
 "cells": [
  {
   "cell_type": "code",
   "execution_count": null,
   "id": "c08b2f1b",
   "metadata": {},
   "outputs": [],
   "source": [
    "import torchvision.models as models\n",
    "\n",
    "\n",
    "modeal_path = './ModelWeight'\n",
    "\n",
    "\n",
    "# https://pytorch.org/vision/stable/models.html\n",
    "def set_parameter_requires_grad(model, feature_extracting):\n",
    "    if feature_extracting:\n",
    "        for param in model.parameters():\n",
    "            param.requires_grad = True\n",
    "\n",
    "# restnet18_modelzoo = models.resnet18(pretrained=True)\n",
    "\n",
    "model_cnn = models.resnet18(pretrained=True)\n",
    "set_parameter_requires_grad(model_cnn, True)\n",
    "model_cnn.fc = nn.Linear(model_cnn.fc.in_features, 7)\n",
    "print(model_cnn)"
   ]
  },
  {
   "cell_type": "code",
   "execution_count": null,
   "id": "8e498ec2",
   "metadata": {},
   "outputs": [],
   "source": [
    "model_cnn, log_loss_train, log_loss_test = train(model_cnn, loss, optimizer_cnn, scheduler)\n",
    "checkpoint={}\n",
    "checkpoint['log_loss_train']=log_loss_train\n",
    "checkpoint['log_loss_test']=log_loss_test\n",
    "checkpoint['model_dict'] = model_cnn.state_dict()\n",
    "torch.load(checkpoint, 'Model_resnet18_withpretrain_fer2013_scheduler.pth')\n",
    "print('Model saved.')"
   ]
  }
 ],
 "metadata": {
  "kernelspec": {
   "display_name": "Python 3",
   "language": "python",
   "name": "python3"
  }
 },
 "nbformat": 4,
 "nbformat_minor": 5
}
